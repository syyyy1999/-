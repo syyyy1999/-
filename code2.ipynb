{
 "cells": [
  {
   "cell_type": "code",
   "execution_count": 1,
   "metadata": {},
   "outputs": [],
   "source": [
    "\n",
    "import pandas as pd\n",
    "import numpy as np\n",
    "import matplotlib.pyplot as plt\n",
    "import seaborn as sns\n",
    "import datetime\n",
    "from tqdm import tqdm\n",
    "from sklearn.preprocessing import LabelEncoder\n",
    "from sklearn.feature_selection import SelectKBest\n",
    "from sklearn.feature_selection import chi2\n",
    "from sklearn.preprocessing import MinMaxScaler\n",
    "import xgboost as xgb\n",
    "import lightgbm as lgb\n",
    "from catboost import CatBoostRegressor\n",
    "import warnings\n",
    "from sklearn.model_selection import StratifiedKFold, KFold\n",
    "from sklearn.metrics import accuracy_score, f1_score, roc_auc_score, log_loss, classification_report\n",
    "warnings.filterwarnings('ignore')\n",
    "\n",
    "from sklearn.model_selection import train_test_split\n"
   ]
  },
  {
   "cell_type": "code",
   "execution_count": 2,
   "metadata": {},
   "outputs": [],
   "source": [
    "data_train = pd.read_csv('F:/毕业论文/数据/data_train.csv')"
   ]
  },
  {
   "cell_type": "markdown",
   "metadata": {},
   "source": [
    "# 归一化"
   ]
  },
  {
   "cell_type": "code",
   "execution_count": 3,
   "metadata": {},
   "outputs": [],
   "source": [
    "gyh_train = data_train.copy()"
   ]
  },
  {
   "cell_type": "code",
   "execution_count": 4,
   "metadata": {},
   "outputs": [],
   "source": [
    "gyh_train=gyh_train.drop(['id'],axis=1)\n",
    "gyh_train=gyh_train.drop(['issueDate'],axis=1)"
   ]
  },
  {
   "cell_type": "code",
   "execution_count": 5,
   "metadata": {},
   "outputs": [
    {
     "data": {
      "text/plain": [
       "Index(['Unnamed: 0', 'loanAmnt', 'term', 'interestRate', 'installment',\n",
       "       'grade', 'subGrade', 'employmentTitle', 'employmentLength',\n",
       "       'homeOwnership', 'annualIncome', 'verificationStatus', 'isDefault',\n",
       "       'purpose', 'postCode', 'regionCode', 'dti', 'delinquency_2years',\n",
       "       'ficoRangeLow', 'ficoRangeHigh', 'openAcc', 'pubRec',\n",
       "       'pubRecBankruptcies', 'revolBal', 'revolUtil', 'totalAcc',\n",
       "       'initialListStatus', 'applicationType', 'earliesCreditLine', 'title',\n",
       "       'policyCode', 'n0', 'n1', 'n2', 'n3', 'n4', 'n5', 'n6', 'n7', 'n8',\n",
       "       'n9', 'n10', 'n11', 'n12', 'n13', 'n14', 'issueDateDT'],\n",
       "      dtype='object')"
      ]
     },
     "execution_count": 5,
     "metadata": {},
     "output_type": "execute_result"
    }
   ],
   "source": [
    "gyh_train.columns"
   ]
  },
  {
   "cell_type": "code",
   "execution_count": 6,
   "metadata": {},
   "outputs": [],
   "source": [
    "#归一化\n",
    "from sklearn import preprocessing\n",
    "min_max_scaler = preprocessing.MinMaxScaler()\n",
    "train_minmax = min_max_scaler.fit_transform(gyh_train)"
   ]
  },
  {
   "cell_type": "code",
   "execution_count": 7,
   "metadata": {},
   "outputs": [],
   "source": [
    "train_minmax = pd.DataFrame(train_minmax)"
   ]
  },
  {
   "cell_type": "code",
   "execution_count": 8,
   "metadata": {},
   "outputs": [
    {
     "data": {
      "text/html": [
       "<div>\n",
       "<style scoped>\n",
       "    .dataframe tbody tr th:only-of-type {\n",
       "        vertical-align: middle;\n",
       "    }\n",
       "\n",
       "    .dataframe tbody tr th {\n",
       "        vertical-align: top;\n",
       "    }\n",
       "\n",
       "    .dataframe thead th {\n",
       "        text-align: right;\n",
       "    }\n",
       "</style>\n",
       "<table border=\"1\" class=\"dataframe\">\n",
       "  <thead>\n",
       "    <tr style=\"text-align: right;\">\n",
       "      <th></th>\n",
       "      <th>Unnamed: 0</th>\n",
       "      <th>loanAmnt</th>\n",
       "      <th>term</th>\n",
       "      <th>interestRate</th>\n",
       "      <th>installment</th>\n",
       "      <th>grade</th>\n",
       "      <th>subGrade</th>\n",
       "      <th>employmentTitle</th>\n",
       "      <th>employmentLength</th>\n",
       "      <th>homeOwnership</th>\n",
       "      <th>...</th>\n",
       "      <th>n6</th>\n",
       "      <th>n7</th>\n",
       "      <th>n8</th>\n",
       "      <th>n9</th>\n",
       "      <th>n10</th>\n",
       "      <th>n11</th>\n",
       "      <th>n12</th>\n",
       "      <th>n13</th>\n",
       "      <th>n14</th>\n",
       "      <th>issueDateDT</th>\n",
       "    </tr>\n",
       "  </thead>\n",
       "  <tbody>\n",
       "    <tr>\n",
       "      <th>0</th>\n",
       "      <td>0.000000</td>\n",
       "      <td>0.873418</td>\n",
       "      <td>1.0</td>\n",
       "      <td>0.553349</td>\n",
       "      <td>0.530837</td>\n",
       "      <td>0.666667</td>\n",
       "      <td>0.617647</td>\n",
       "      <td>0.000846</td>\n",
       "      <td>0.2</td>\n",
       "      <td>0.4</td>\n",
       "      <td>...</td>\n",
       "      <td>0.060606</td>\n",
       "      <td>0.050633</td>\n",
       "      <td>0.086614</td>\n",
       "      <td>0.044444</td>\n",
       "      <td>0.085366</td>\n",
       "      <td>0.0</td>\n",
       "      <td>0.0</td>\n",
       "      <td>0.000000</td>\n",
       "      <td>0.066667</td>\n",
       "      <td>0.615806</td>\n",
       "    </tr>\n",
       "    <tr>\n",
       "      <th>1</th>\n",
       "      <td>0.000001</td>\n",
       "      <td>0.443038</td>\n",
       "      <td>1.0</td>\n",
       "      <td>0.513240</td>\n",
       "      <td>0.262518</td>\n",
       "      <td>0.500000</td>\n",
       "      <td>0.470588</td>\n",
       "      <td>0.581056</td>\n",
       "      <td>0.5</td>\n",
       "      <td>0.0</td>\n",
       "      <td>...</td>\n",
       "      <td>0.053030</td>\n",
       "      <td>0.088608</td>\n",
       "      <td>0.094488</td>\n",
       "      <td>0.111111</td>\n",
       "      <td>0.158537</td>\n",
       "      <td>0.0</td>\n",
       "      <td>0.0</td>\n",
       "      <td>0.000000</td>\n",
       "      <td>0.066667</td>\n",
       "      <td>0.449417</td>\n",
       "    </tr>\n",
       "    <tr>\n",
       "      <th>2</th>\n",
       "      <td>0.000003</td>\n",
       "      <td>0.291139</td>\n",
       "      <td>1.0</td>\n",
       "      <td>0.454829</td>\n",
       "      <td>0.166191</td>\n",
       "      <td>0.500000</td>\n",
       "      <td>0.500000</td>\n",
       "      <td>0.083779</td>\n",
       "      <td>0.8</td>\n",
       "      <td>0.0</td>\n",
       "      <td>...</td>\n",
       "      <td>0.159091</td>\n",
       "      <td>0.050633</td>\n",
       "      <td>0.031496</td>\n",
       "      <td>0.066667</td>\n",
       "      <td>0.134146</td>\n",
       "      <td>0.0</td>\n",
       "      <td>0.0</td>\n",
       "      <td>0.000000</td>\n",
       "      <td>0.133333</td>\n",
       "      <td>0.724589</td>\n",
       "    </tr>\n",
       "    <tr>\n",
       "      <th>3</th>\n",
       "      <td>0.000004</td>\n",
       "      <td>0.265823</td>\n",
       "      <td>0.0</td>\n",
       "      <td>0.075935</td>\n",
       "      <td>0.191366</td>\n",
       "      <td>0.000000</td>\n",
       "      <td>0.088235</td>\n",
       "      <td>0.123837</td>\n",
       "      <td>1.0</td>\n",
       "      <td>0.2</td>\n",
       "      <td>...</td>\n",
       "      <td>0.030303</td>\n",
       "      <td>0.088608</td>\n",
       "      <td>0.157480</td>\n",
       "      <td>0.133333</td>\n",
       "      <td>0.109756</td>\n",
       "      <td>0.0</td>\n",
       "      <td>0.0</td>\n",
       "      <td>0.000000</td>\n",
       "      <td>0.033333</td>\n",
       "      <td>0.710069</td>\n",
       "    </tr>\n",
       "    <tr>\n",
       "      <th>4</th>\n",
       "      <td>0.000005</td>\n",
       "      <td>0.063291</td>\n",
       "      <td>0.0</td>\n",
       "      <td>0.299065</td>\n",
       "      <td>0.050232</td>\n",
       "      <td>0.333333</td>\n",
       "      <td>0.323529</td>\n",
       "      <td>0.000143</td>\n",
       "      <td>0.6</td>\n",
       "      <td>0.2</td>\n",
       "      <td>...</td>\n",
       "      <td>0.068182</td>\n",
       "      <td>0.126582</td>\n",
       "      <td>0.110236</td>\n",
       "      <td>0.155556</td>\n",
       "      <td>0.146341</td>\n",
       "      <td>0.0</td>\n",
       "      <td>0.0</td>\n",
       "      <td>0.000000</td>\n",
       "      <td>0.133333</td>\n",
       "      <td>0.760771</td>\n",
       "    </tr>\n",
       "    <tr>\n",
       "      <th>...</th>\n",
       "      <td>...</td>\n",
       "      <td>...</td>\n",
       "      <td>...</td>\n",
       "      <td>...</td>\n",
       "      <td>...</td>\n",
       "      <td>...</td>\n",
       "      <td>...</td>\n",
       "      <td>...</td>\n",
       "      <td>...</td>\n",
       "      <td>...</td>\n",
       "      <td>...</td>\n",
       "      <td>...</td>\n",
       "      <td>...</td>\n",
       "      <td>...</td>\n",
       "      <td>...</td>\n",
       "      <td>...</td>\n",
       "      <td>...</td>\n",
       "      <td>...</td>\n",
       "      <td>...</td>\n",
       "      <td>...</td>\n",
       "      <td>...</td>\n",
       "    </tr>\n",
       "    <tr>\n",
       "      <th>799995</th>\n",
       "      <td>0.999995</td>\n",
       "      <td>0.620253</td>\n",
       "      <td>0.0</td>\n",
       "      <td>0.357477</td>\n",
       "      <td>0.496973</td>\n",
       "      <td>0.333333</td>\n",
       "      <td>0.382353</td>\n",
       "      <td>0.007028</td>\n",
       "      <td>0.7</td>\n",
       "      <td>0.2</td>\n",
       "      <td>...</td>\n",
       "      <td>0.015152</td>\n",
       "      <td>0.151899</td>\n",
       "      <td>0.094488</td>\n",
       "      <td>0.222222</td>\n",
       "      <td>0.170732</td>\n",
       "      <td>0.0</td>\n",
       "      <td>0.0</td>\n",
       "      <td>0.000000</td>\n",
       "      <td>0.100000</td>\n",
       "      <td>0.789812</td>\n",
       "    </tr>\n",
       "    <tr>\n",
       "      <th>799996</th>\n",
       "      <td>0.999996</td>\n",
       "      <td>0.417722</td>\n",
       "      <td>0.0</td>\n",
       "      <td>0.100857</td>\n",
       "      <td>0.303725</td>\n",
       "      <td>0.000000</td>\n",
       "      <td>0.088235</td>\n",
       "      <td>0.077190</td>\n",
       "      <td>1.0</td>\n",
       "      <td>0.0</td>\n",
       "      <td>...</td>\n",
       "      <td>0.121212</td>\n",
       "      <td>0.025316</td>\n",
       "      <td>0.141732</td>\n",
       "      <td>0.044444</td>\n",
       "      <td>0.085366</td>\n",
       "      <td>0.0</td>\n",
       "      <td>0.0</td>\n",
       "      <td>0.000000</td>\n",
       "      <td>0.000000</td>\n",
       "      <td>0.507260</td>\n",
       "    </tr>\n",
       "    <tr>\n",
       "      <th>799997</th>\n",
       "      <td>0.999997</td>\n",
       "      <td>0.139241</td>\n",
       "      <td>0.0</td>\n",
       "      <td>0.312305</td>\n",
       "      <td>0.110270</td>\n",
       "      <td>0.333333</td>\n",
       "      <td>0.352941</td>\n",
       "      <td>0.006824</td>\n",
       "      <td>1.0</td>\n",
       "      <td>0.2</td>\n",
       "      <td>...</td>\n",
       "      <td>0.196970</td>\n",
       "      <td>0.050633</td>\n",
       "      <td>0.070866</td>\n",
       "      <td>0.088889</td>\n",
       "      <td>0.060976</td>\n",
       "      <td>0.0</td>\n",
       "      <td>0.0</td>\n",
       "      <td>0.025641</td>\n",
       "      <td>0.133333</td>\n",
       "      <td>0.724589</td>\n",
       "    </tr>\n",
       "    <tr>\n",
       "      <th>799998</th>\n",
       "      <td>0.999999</td>\n",
       "      <td>0.473418</td>\n",
       "      <td>0.0</td>\n",
       "      <td>0.062695</td>\n",
       "      <td>0.339142</td>\n",
       "      <td>0.000000</td>\n",
       "      <td>0.088235</td>\n",
       "      <td>0.000399</td>\n",
       "      <td>1.0</td>\n",
       "      <td>0.0</td>\n",
       "      <td>...</td>\n",
       "      <td>0.045455</td>\n",
       "      <td>0.151899</td>\n",
       "      <td>0.165354</td>\n",
       "      <td>0.177778</td>\n",
       "      <td>0.195122</td>\n",
       "      <td>0.0</td>\n",
       "      <td>0.0</td>\n",
       "      <td>0.000000</td>\n",
       "      <td>0.166667</td>\n",
       "      <td>0.666984</td>\n",
       "    </tr>\n",
       "    <tr>\n",
       "      <th>799999</th>\n",
       "      <td>1.000000</td>\n",
       "      <td>0.215190</td>\n",
       "      <td>0.0</td>\n",
       "      <td>0.223910</td>\n",
       "      <td>0.164273</td>\n",
       "      <td>0.166667</td>\n",
       "      <td>0.205882</td>\n",
       "      <td>0.000034</td>\n",
       "      <td>0.5</td>\n",
       "      <td>0.0</td>\n",
       "      <td>...</td>\n",
       "      <td>0.030303</td>\n",
       "      <td>0.050633</td>\n",
       "      <td>0.055118</td>\n",
       "      <td>0.066667</td>\n",
       "      <td>0.085366</td>\n",
       "      <td>0.0</td>\n",
       "      <td>0.0</td>\n",
       "      <td>0.000000</td>\n",
       "      <td>0.066667</td>\n",
       "      <td>0.970959</td>\n",
       "    </tr>\n",
       "  </tbody>\n",
       "</table>\n",
       "<p>800000 rows × 47 columns</p>\n",
       "</div>"
      ],
      "text/plain": [
       "        Unnamed: 0  loanAmnt  term  interestRate  installment     grade  \\\n",
       "0         0.000000  0.873418   1.0      0.553349     0.530837  0.666667   \n",
       "1         0.000001  0.443038   1.0      0.513240     0.262518  0.500000   \n",
       "2         0.000003  0.291139   1.0      0.454829     0.166191  0.500000   \n",
       "3         0.000004  0.265823   0.0      0.075935     0.191366  0.000000   \n",
       "4         0.000005  0.063291   0.0      0.299065     0.050232  0.333333   \n",
       "...            ...       ...   ...           ...          ...       ...   \n",
       "799995    0.999995  0.620253   0.0      0.357477     0.496973  0.333333   \n",
       "799996    0.999996  0.417722   0.0      0.100857     0.303725  0.000000   \n",
       "799997    0.999997  0.139241   0.0      0.312305     0.110270  0.333333   \n",
       "799998    0.999999  0.473418   0.0      0.062695     0.339142  0.000000   \n",
       "799999    1.000000  0.215190   0.0      0.223910     0.164273  0.166667   \n",
       "\n",
       "        subGrade  employmentTitle  employmentLength  homeOwnership  ...  \\\n",
       "0       0.617647         0.000846               0.2            0.4  ...   \n",
       "1       0.470588         0.581056               0.5            0.0  ...   \n",
       "2       0.500000         0.083779               0.8            0.0  ...   \n",
       "3       0.088235         0.123837               1.0            0.2  ...   \n",
       "4       0.323529         0.000143               0.6            0.2  ...   \n",
       "...          ...              ...               ...            ...  ...   \n",
       "799995  0.382353         0.007028               0.7            0.2  ...   \n",
       "799996  0.088235         0.077190               1.0            0.0  ...   \n",
       "799997  0.352941         0.006824               1.0            0.2  ...   \n",
       "799998  0.088235         0.000399               1.0            0.0  ...   \n",
       "799999  0.205882         0.000034               0.5            0.0  ...   \n",
       "\n",
       "              n6        n7        n8        n9       n10  n11  n12       n13  \\\n",
       "0       0.060606  0.050633  0.086614  0.044444  0.085366  0.0  0.0  0.000000   \n",
       "1       0.053030  0.088608  0.094488  0.111111  0.158537  0.0  0.0  0.000000   \n",
       "2       0.159091  0.050633  0.031496  0.066667  0.134146  0.0  0.0  0.000000   \n",
       "3       0.030303  0.088608  0.157480  0.133333  0.109756  0.0  0.0  0.000000   \n",
       "4       0.068182  0.126582  0.110236  0.155556  0.146341  0.0  0.0  0.000000   \n",
       "...          ...       ...       ...       ...       ...  ...  ...       ...   \n",
       "799995  0.015152  0.151899  0.094488  0.222222  0.170732  0.0  0.0  0.000000   \n",
       "799996  0.121212  0.025316  0.141732  0.044444  0.085366  0.0  0.0  0.000000   \n",
       "799997  0.196970  0.050633  0.070866  0.088889  0.060976  0.0  0.0  0.025641   \n",
       "799998  0.045455  0.151899  0.165354  0.177778  0.195122  0.0  0.0  0.000000   \n",
       "799999  0.030303  0.050633  0.055118  0.066667  0.085366  0.0  0.0  0.000000   \n",
       "\n",
       "             n14  issueDateDT  \n",
       "0       0.066667     0.615806  \n",
       "1       0.066667     0.449417  \n",
       "2       0.133333     0.724589  \n",
       "3       0.033333     0.710069  \n",
       "4       0.133333     0.760771  \n",
       "...          ...          ...  \n",
       "799995  0.100000     0.789812  \n",
       "799996  0.000000     0.507260  \n",
       "799997  0.133333     0.724589  \n",
       "799998  0.166667     0.666984  \n",
       "799999  0.066667     0.970959  \n",
       "\n",
       "[800000 rows x 47 columns]"
      ]
     },
     "execution_count": 8,
     "metadata": {},
     "output_type": "execute_result"
    }
   ],
   "source": [
    "train_minmax.columns=['Unnamed: 0', 'loanAmnt', 'term', 'interestRate', 'installment',\n",
    "       'grade', 'subGrade', 'employmentTitle', 'employmentLength',\n",
    "       'homeOwnership', 'annualIncome', 'verificationStatus', 'isDefault',\n",
    "       'purpose', 'postCode', 'regionCode', 'dti', 'delinquency_2years',\n",
    "       'ficoRangeLow', 'ficoRangeHigh', 'openAcc', 'pubRec',\n",
    "       'pubRecBankruptcies', 'revolBal', 'revolUtil', 'totalAcc',\n",
    "       'initialListStatus', 'applicationType', 'earliesCreditLine', 'title',\n",
    "       'policyCode', 'n0', 'n1', 'n2', 'n3', 'n4', 'n5', 'n6', 'n7', 'n8',\n",
    "       'n9', 'n10', 'n11', 'n12', 'n13', 'n14', 'issueDateDT']\n",
    "train_minmax"
   ]
  },
  {
   "cell_type": "code",
   "execution_count": 9,
   "metadata": {},
   "outputs": [],
   "source": [
    "train_minmax=train_minmax.drop(['Unnamed: 0'],axis=1)\n",
    "train_minmax['isDefault']=data_train['isDefault']\n"
   ]
  },
  {
   "cell_type": "code",
   "execution_count": 10,
   "metadata": {},
   "outputs": [
    {
     "data": {
      "text/html": [
       "<div>\n",
       "<style scoped>\n",
       "    .dataframe tbody tr th:only-of-type {\n",
       "        vertical-align: middle;\n",
       "    }\n",
       "\n",
       "    .dataframe tbody tr th {\n",
       "        vertical-align: top;\n",
       "    }\n",
       "\n",
       "    .dataframe thead th {\n",
       "        text-align: right;\n",
       "    }\n",
       "</style>\n",
       "<table border=\"1\" class=\"dataframe\">\n",
       "  <thead>\n",
       "    <tr style=\"text-align: right;\">\n",
       "      <th></th>\n",
       "      <th>loanAmnt</th>\n",
       "      <th>term</th>\n",
       "      <th>interestRate</th>\n",
       "      <th>installment</th>\n",
       "      <th>grade</th>\n",
       "      <th>subGrade</th>\n",
       "      <th>employmentTitle</th>\n",
       "      <th>employmentLength</th>\n",
       "      <th>homeOwnership</th>\n",
       "      <th>annualIncome</th>\n",
       "      <th>...</th>\n",
       "      <th>n6</th>\n",
       "      <th>n7</th>\n",
       "      <th>n8</th>\n",
       "      <th>n9</th>\n",
       "      <th>n10</th>\n",
       "      <th>n11</th>\n",
       "      <th>n12</th>\n",
       "      <th>n13</th>\n",
       "      <th>n14</th>\n",
       "      <th>issueDateDT</th>\n",
       "    </tr>\n",
       "  </thead>\n",
       "  <tbody>\n",
       "    <tr>\n",
       "      <th>0</th>\n",
       "      <td>0.873418</td>\n",
       "      <td>1.0</td>\n",
       "      <td>0.553349</td>\n",
       "      <td>0.530837</td>\n",
       "      <td>0.666667</td>\n",
       "      <td>0.617647</td>\n",
       "      <td>0.000846</td>\n",
       "      <td>0.2</td>\n",
       "      <td>0.4</td>\n",
       "      <td>0.010001</td>\n",
       "      <td>...</td>\n",
       "      <td>0.060606</td>\n",
       "      <td>0.050633</td>\n",
       "      <td>0.086614</td>\n",
       "      <td>0.044444</td>\n",
       "      <td>0.085366</td>\n",
       "      <td>0.0</td>\n",
       "      <td>0.0</td>\n",
       "      <td>0.000000</td>\n",
       "      <td>0.066667</td>\n",
       "      <td>0.615806</td>\n",
       "    </tr>\n",
       "    <tr>\n",
       "      <th>1</th>\n",
       "      <td>0.443038</td>\n",
       "      <td>1.0</td>\n",
       "      <td>0.513240</td>\n",
       "      <td>0.262518</td>\n",
       "      <td>0.500000</td>\n",
       "      <td>0.470588</td>\n",
       "      <td>0.581056</td>\n",
       "      <td>0.5</td>\n",
       "      <td>0.0</td>\n",
       "      <td>0.004182</td>\n",
       "      <td>...</td>\n",
       "      <td>0.053030</td>\n",
       "      <td>0.088608</td>\n",
       "      <td>0.094488</td>\n",
       "      <td>0.111111</td>\n",
       "      <td>0.158537</td>\n",
       "      <td>0.0</td>\n",
       "      <td>0.0</td>\n",
       "      <td>0.000000</td>\n",
       "      <td>0.066667</td>\n",
       "      <td>0.449417</td>\n",
       "    </tr>\n",
       "    <tr>\n",
       "      <th>2</th>\n",
       "      <td>0.291139</td>\n",
       "      <td>1.0</td>\n",
       "      <td>0.454829</td>\n",
       "      <td>0.166191</td>\n",
       "      <td>0.500000</td>\n",
       "      <td>0.500000</td>\n",
       "      <td>0.083779</td>\n",
       "      <td>0.8</td>\n",
       "      <td>0.0</td>\n",
       "      <td>0.006728</td>\n",
       "      <td>...</td>\n",
       "      <td>0.159091</td>\n",
       "      <td>0.050633</td>\n",
       "      <td>0.031496</td>\n",
       "      <td>0.066667</td>\n",
       "      <td>0.134146</td>\n",
       "      <td>0.0</td>\n",
       "      <td>0.0</td>\n",
       "      <td>0.000000</td>\n",
       "      <td>0.133333</td>\n",
       "      <td>0.724589</td>\n",
       "    </tr>\n",
       "    <tr>\n",
       "      <th>3</th>\n",
       "      <td>0.265823</td>\n",
       "      <td>0.0</td>\n",
       "      <td>0.075935</td>\n",
       "      <td>0.191366</td>\n",
       "      <td>0.000000</td>\n",
       "      <td>0.088235</td>\n",
       "      <td>0.123837</td>\n",
       "      <td>1.0</td>\n",
       "      <td>0.2</td>\n",
       "      <td>0.010728</td>\n",
       "      <td>...</td>\n",
       "      <td>0.030303</td>\n",
       "      <td>0.088608</td>\n",
       "      <td>0.157480</td>\n",
       "      <td>0.133333</td>\n",
       "      <td>0.109756</td>\n",
       "      <td>0.0</td>\n",
       "      <td>0.0</td>\n",
       "      <td>0.000000</td>\n",
       "      <td>0.033333</td>\n",
       "      <td>0.710069</td>\n",
       "    </tr>\n",
       "    <tr>\n",
       "      <th>4</th>\n",
       "      <td>0.063291</td>\n",
       "      <td>0.0</td>\n",
       "      <td>0.299065</td>\n",
       "      <td>0.050232</td>\n",
       "      <td>0.333333</td>\n",
       "      <td>0.323529</td>\n",
       "      <td>0.000143</td>\n",
       "      <td>0.6</td>\n",
       "      <td>0.2</td>\n",
       "      <td>0.002637</td>\n",
       "      <td>...</td>\n",
       "      <td>0.068182</td>\n",
       "      <td>0.126582</td>\n",
       "      <td>0.110236</td>\n",
       "      <td>0.155556</td>\n",
       "      <td>0.146341</td>\n",
       "      <td>0.0</td>\n",
       "      <td>0.0</td>\n",
       "      <td>0.000000</td>\n",
       "      <td>0.133333</td>\n",
       "      <td>0.760771</td>\n",
       "    </tr>\n",
       "    <tr>\n",
       "      <th>...</th>\n",
       "      <td>...</td>\n",
       "      <td>...</td>\n",
       "      <td>...</td>\n",
       "      <td>...</td>\n",
       "      <td>...</td>\n",
       "      <td>...</td>\n",
       "      <td>...</td>\n",
       "      <td>...</td>\n",
       "      <td>...</td>\n",
       "      <td>...</td>\n",
       "      <td>...</td>\n",
       "      <td>...</td>\n",
       "      <td>...</td>\n",
       "      <td>...</td>\n",
       "      <td>...</td>\n",
       "      <td>...</td>\n",
       "      <td>...</td>\n",
       "      <td>...</td>\n",
       "      <td>...</td>\n",
       "      <td>...</td>\n",
       "      <td>...</td>\n",
       "    </tr>\n",
       "    <tr>\n",
       "      <th>799995</th>\n",
       "      <td>0.620253</td>\n",
       "      <td>0.0</td>\n",
       "      <td>0.357477</td>\n",
       "      <td>0.496973</td>\n",
       "      <td>0.333333</td>\n",
       "      <td>0.382353</td>\n",
       "      <td>0.007028</td>\n",
       "      <td>0.7</td>\n",
       "      <td>0.2</td>\n",
       "      <td>0.006546</td>\n",
       "      <td>...</td>\n",
       "      <td>0.015152</td>\n",
       "      <td>0.151899</td>\n",
       "      <td>0.094488</td>\n",
       "      <td>0.222222</td>\n",
       "      <td>0.170732</td>\n",
       "      <td>0.0</td>\n",
       "      <td>0.0</td>\n",
       "      <td>0.000000</td>\n",
       "      <td>0.100000</td>\n",
       "      <td>0.789812</td>\n",
       "    </tr>\n",
       "    <tr>\n",
       "      <th>799996</th>\n",
       "      <td>0.417722</td>\n",
       "      <td>0.0</td>\n",
       "      <td>0.100857</td>\n",
       "      <td>0.303725</td>\n",
       "      <td>0.000000</td>\n",
       "      <td>0.088235</td>\n",
       "      <td>0.077190</td>\n",
       "      <td>1.0</td>\n",
       "      <td>0.0</td>\n",
       "      <td>0.009001</td>\n",
       "      <td>...</td>\n",
       "      <td>0.121212</td>\n",
       "      <td>0.025316</td>\n",
       "      <td>0.141732</td>\n",
       "      <td>0.044444</td>\n",
       "      <td>0.085366</td>\n",
       "      <td>0.0</td>\n",
       "      <td>0.0</td>\n",
       "      <td>0.000000</td>\n",
       "      <td>0.000000</td>\n",
       "      <td>0.507260</td>\n",
       "    </tr>\n",
       "    <tr>\n",
       "      <th>799997</th>\n",
       "      <td>0.139241</td>\n",
       "      <td>0.0</td>\n",
       "      <td>0.312305</td>\n",
       "      <td>0.110270</td>\n",
       "      <td>0.333333</td>\n",
       "      <td>0.352941</td>\n",
       "      <td>0.006824</td>\n",
       "      <td>1.0</td>\n",
       "      <td>0.2</td>\n",
       "      <td>0.005910</td>\n",
       "      <td>...</td>\n",
       "      <td>0.196970</td>\n",
       "      <td>0.050633</td>\n",
       "      <td>0.070866</td>\n",
       "      <td>0.088889</td>\n",
       "      <td>0.060976</td>\n",
       "      <td>0.0</td>\n",
       "      <td>0.0</td>\n",
       "      <td>0.025641</td>\n",
       "      <td>0.133333</td>\n",
       "      <td>0.724589</td>\n",
       "    </tr>\n",
       "    <tr>\n",
       "      <th>799998</th>\n",
       "      <td>0.473418</td>\n",
       "      <td>0.0</td>\n",
       "      <td>0.062695</td>\n",
       "      <td>0.339142</td>\n",
       "      <td>0.000000</td>\n",
       "      <td>0.088235</td>\n",
       "      <td>0.000399</td>\n",
       "      <td>1.0</td>\n",
       "      <td>0.0</td>\n",
       "      <td>0.008728</td>\n",
       "      <td>...</td>\n",
       "      <td>0.045455</td>\n",
       "      <td>0.151899</td>\n",
       "      <td>0.165354</td>\n",
       "      <td>0.177778</td>\n",
       "      <td>0.195122</td>\n",
       "      <td>0.0</td>\n",
       "      <td>0.0</td>\n",
       "      <td>0.000000</td>\n",
       "      <td>0.166667</td>\n",
       "      <td>0.666984</td>\n",
       "    </tr>\n",
       "    <tr>\n",
       "      <th>799999</th>\n",
       "      <td>0.215190</td>\n",
       "      <td>0.0</td>\n",
       "      <td>0.223910</td>\n",
       "      <td>0.164273</td>\n",
       "      <td>0.166667</td>\n",
       "      <td>0.205882</td>\n",
       "      <td>0.000034</td>\n",
       "      <td>0.5</td>\n",
       "      <td>0.0</td>\n",
       "      <td>0.010910</td>\n",
       "      <td>...</td>\n",
       "      <td>0.030303</td>\n",
       "      <td>0.050633</td>\n",
       "      <td>0.055118</td>\n",
       "      <td>0.066667</td>\n",
       "      <td>0.085366</td>\n",
       "      <td>0.0</td>\n",
       "      <td>0.0</td>\n",
       "      <td>0.000000</td>\n",
       "      <td>0.066667</td>\n",
       "      <td>0.970959</td>\n",
       "    </tr>\n",
       "  </tbody>\n",
       "</table>\n",
       "<p>800000 rows × 46 columns</p>\n",
       "</div>"
      ],
      "text/plain": [
       "        loanAmnt  term  interestRate  installment     grade  subGrade  \\\n",
       "0       0.873418   1.0      0.553349     0.530837  0.666667  0.617647   \n",
       "1       0.443038   1.0      0.513240     0.262518  0.500000  0.470588   \n",
       "2       0.291139   1.0      0.454829     0.166191  0.500000  0.500000   \n",
       "3       0.265823   0.0      0.075935     0.191366  0.000000  0.088235   \n",
       "4       0.063291   0.0      0.299065     0.050232  0.333333  0.323529   \n",
       "...          ...   ...           ...          ...       ...       ...   \n",
       "799995  0.620253   0.0      0.357477     0.496973  0.333333  0.382353   \n",
       "799996  0.417722   0.0      0.100857     0.303725  0.000000  0.088235   \n",
       "799997  0.139241   0.0      0.312305     0.110270  0.333333  0.352941   \n",
       "799998  0.473418   0.0      0.062695     0.339142  0.000000  0.088235   \n",
       "799999  0.215190   0.0      0.223910     0.164273  0.166667  0.205882   \n",
       "\n",
       "        employmentTitle  employmentLength  homeOwnership  annualIncome  ...  \\\n",
       "0              0.000846               0.2            0.4      0.010001  ...   \n",
       "1              0.581056               0.5            0.0      0.004182  ...   \n",
       "2              0.083779               0.8            0.0      0.006728  ...   \n",
       "3              0.123837               1.0            0.2      0.010728  ...   \n",
       "4              0.000143               0.6            0.2      0.002637  ...   \n",
       "...                 ...               ...            ...           ...  ...   \n",
       "799995         0.007028               0.7            0.2      0.006546  ...   \n",
       "799996         0.077190               1.0            0.0      0.009001  ...   \n",
       "799997         0.006824               1.0            0.2      0.005910  ...   \n",
       "799998         0.000399               1.0            0.0      0.008728  ...   \n",
       "799999         0.000034               0.5            0.0      0.010910  ...   \n",
       "\n",
       "              n6        n7        n8        n9       n10  n11  n12       n13  \\\n",
       "0       0.060606  0.050633  0.086614  0.044444  0.085366  0.0  0.0  0.000000   \n",
       "1       0.053030  0.088608  0.094488  0.111111  0.158537  0.0  0.0  0.000000   \n",
       "2       0.159091  0.050633  0.031496  0.066667  0.134146  0.0  0.0  0.000000   \n",
       "3       0.030303  0.088608  0.157480  0.133333  0.109756  0.0  0.0  0.000000   \n",
       "4       0.068182  0.126582  0.110236  0.155556  0.146341  0.0  0.0  0.000000   \n",
       "...          ...       ...       ...       ...       ...  ...  ...       ...   \n",
       "799995  0.015152  0.151899  0.094488  0.222222  0.170732  0.0  0.0  0.000000   \n",
       "799996  0.121212  0.025316  0.141732  0.044444  0.085366  0.0  0.0  0.000000   \n",
       "799997  0.196970  0.050633  0.070866  0.088889  0.060976  0.0  0.0  0.025641   \n",
       "799998  0.045455  0.151899  0.165354  0.177778  0.195122  0.0  0.0  0.000000   \n",
       "799999  0.030303  0.050633  0.055118  0.066667  0.085366  0.0  0.0  0.000000   \n",
       "\n",
       "             n14  issueDateDT  \n",
       "0       0.066667     0.615806  \n",
       "1       0.066667     0.449417  \n",
       "2       0.133333     0.724589  \n",
       "3       0.033333     0.710069  \n",
       "4       0.133333     0.760771  \n",
       "...          ...          ...  \n",
       "799995  0.100000     0.789812  \n",
       "799996  0.000000     0.507260  \n",
       "799997  0.133333     0.724589  \n",
       "799998  0.166667     0.666984  \n",
       "799999  0.066667     0.970959  \n",
       "\n",
       "[800000 rows x 46 columns]"
      ]
     },
     "execution_count": 10,
     "metadata": {},
     "output_type": "execute_result"
    }
   ],
   "source": [
    "train_minmax"
   ]
  },
  {
   "cell_type": "code",
   "execution_count": null,
   "metadata": {},
   "outputs": [],
   "source": []
  },
  {
   "cell_type": "code",
   "execution_count": null,
   "metadata": {},
   "outputs": [],
   "source": []
  },
  {
   "cell_type": "markdown",
   "metadata": {},
   "source": [
    "# 异常值处理"
   ]
  },
  {
   "cell_type": "code",
   "execution_count": 11,
   "metadata": {},
   "outputs": [],
   "source": [
    "def find_outliers_by_3segama(data,fea):\n",
    "    data_std = np.std(data[fea])\n",
    "    data_mean = np.mean(data[fea])\n",
    "    outliers_cut_off = data_std * 3\n",
    "    lower_rule = data_mean - outliers_cut_off\n",
    "    upper_rule = data_mean + outliers_cut_off\n",
    "    data[fea+'_outliers'] = data[fea].apply(lambda x:str('异常值') if x > upper_rule or x < lower_rule else '正常值')\n",
    "    return data"
   ]
  },
  {
   "cell_type": "code",
   "execution_count": 12,
   "metadata": {},
   "outputs": [],
   "source": [
    "numerical_fea = list(train_minmax.select_dtypes(exclude=['object']).columns)"
   ]
  },
  {
   "cell_type": "code",
   "execution_count": 13,
   "metadata": {},
   "outputs": [
    {
     "name": "stdout",
     "output_type": "stream",
     "text": [
      "正常值    800000\n",
      "Name: loanAmnt_outliers, dtype: int64\n",
      "loanAmnt_outliers\n",
      "正常值    159610\n",
      "Name: isDefault, dtype: int64\n",
      "**********\n",
      "正常值    800000\n",
      "Name: term_outliers, dtype: int64\n",
      "term_outliers\n",
      "正常值    159610\n",
      "Name: isDefault, dtype: int64\n",
      "**********\n",
      "正常值    794259\n",
      "异常值      5741\n",
      "Name: interestRate_outliers, dtype: int64\n",
      "interestRate_outliers\n",
      "异常值      2916\n",
      "正常值    156694\n",
      "Name: isDefault, dtype: int64\n",
      "**********\n",
      "正常值    792046\n",
      "异常值      7954\n",
      "Name: installment_outliers, dtype: int64\n",
      "installment_outliers\n",
      "异常值      2152\n",
      "正常值    157458\n",
      "Name: isDefault, dtype: int64\n",
      "**********\n",
      "正常值    794636\n",
      "异常值      5364\n",
      "Name: grade_outliers, dtype: int64\n",
      "grade_outliers\n",
      "异常值      2666\n",
      "正常值    156944\n",
      "Name: isDefault, dtype: int64\n",
      "**********\n",
      "正常值    796395\n",
      "异常值      3605\n",
      "Name: subGrade_outliers, dtype: int64\n",
      "subGrade_outliers\n",
      "异常值      1846\n",
      "正常值    157764\n",
      "Name: isDefault, dtype: int64\n",
      "**********\n",
      "正常值    800000\n",
      "Name: employmentTitle_outliers, dtype: int64\n",
      "employmentTitle_outliers\n",
      "正常值    159610\n",
      "Name: isDefault, dtype: int64\n",
      "**********\n",
      "正常值    800000\n",
      "Name: employmentLength_outliers, dtype: int64\n",
      "employmentLength_outliers\n",
      "正常值    159610\n",
      "Name: isDefault, dtype: int64\n",
      "**********\n",
      "正常值    799701\n",
      "异常值       299\n",
      "Name: homeOwnership_outliers, dtype: int64\n",
      "homeOwnership_outliers\n",
      "异常值        62\n",
      "正常值    159548\n",
      "Name: isDefault, dtype: int64\n",
      "**********\n",
      "正常值    793973\n",
      "异常值      6027\n",
      "Name: annualIncome_outliers, dtype: int64\n",
      "annualIncome_outliers\n",
      "异常值       756\n",
      "正常值    158854\n",
      "Name: isDefault, dtype: int64\n",
      "**********\n",
      "正常值    800000\n",
      "Name: verificationStatus_outliers, dtype: int64\n",
      "verificationStatus_outliers\n",
      "正常值    159610\n",
      "Name: isDefault, dtype: int64\n",
      "**********\n",
      "正常值    800000\n",
      "Name: isDefault_outliers, dtype: int64\n",
      "isDefault_outliers\n",
      "正常值    159610\n",
      "Name: isDefault, dtype: int64\n",
      "**********\n",
      "正常值    783003\n",
      "异常值     16997\n",
      "Name: purpose_outliers, dtype: int64\n",
      "purpose_outliers\n",
      "异常值      3635\n",
      "正常值    155975\n",
      "Name: isDefault, dtype: int64\n",
      "**********\n",
      "正常值    798931\n",
      "异常值      1069\n",
      "Name: postCode_outliers, dtype: int64\n",
      "postCode_outliers\n",
      "异常值       221\n",
      "正常值    159389\n",
      "Name: isDefault, dtype: int64\n",
      "**********\n",
      "正常值    799994\n",
      "异常值         6\n",
      "Name: regionCode_outliers, dtype: int64\n",
      "regionCode_outliers\n",
      "异常值         1\n",
      "正常值    159609\n",
      "Name: isDefault, dtype: int64\n",
      "**********\n",
      "正常值    798440\n",
      "异常值      1560\n",
      "Name: dti_outliers, dtype: int64\n",
      "dti_outliers\n",
      "异常值       466\n",
      "正常值    159144\n",
      "Name: isDefault, dtype: int64\n",
      "**********\n",
      "正常值    778245\n",
      "异常值     21755\n",
      "Name: delinquency_2years_outliers, dtype: int64\n",
      "delinquency_2years_outliers\n",
      "异常值      5089\n",
      "正常值    154521\n",
      "Name: isDefault, dtype: int64\n",
      "**********\n",
      "正常值    788261\n",
      "异常值     11739\n",
      "Name: ficoRangeLow_outliers, dtype: int64\n",
      "ficoRangeLow_outliers\n",
      "异常值       778\n",
      "正常值    158832\n",
      "Name: isDefault, dtype: int64\n",
      "**********\n",
      "正常值    788261\n",
      "异常值     11739\n",
      "Name: ficoRangeHigh_outliers, dtype: int64\n",
      "ficoRangeHigh_outliers\n",
      "异常值       778\n",
      "正常值    158832\n",
      "Name: isDefault, dtype: int64\n",
      "**********\n",
      "正常值    790889\n",
      "异常值      9111\n",
      "Name: openAcc_outliers, dtype: int64\n",
      "openAcc_outliers\n",
      "异常值      2195\n",
      "正常值    157415\n",
      "Name: isDefault, dtype: int64\n",
      "**********\n",
      "正常值    792471\n",
      "异常值      7529\n",
      "Name: pubRec_outliers, dtype: int64\n",
      "pubRec_outliers\n",
      "异常值      1701\n",
      "正常值    157909\n",
      "Name: isDefault, dtype: int64\n",
      "**********\n",
      "正常值    794120\n",
      "异常值      5880\n",
      "Name: pubRecBankruptcies_outliers, dtype: int64\n",
      "pubRecBankruptcies_outliers\n",
      "异常值      1423\n",
      "正常值    158187\n",
      "Name: isDefault, dtype: int64\n",
      "**********\n",
      "正常值    790001\n",
      "异常值      9999\n",
      "Name: revolBal_outliers, dtype: int64\n",
      "revolBal_outliers\n",
      "异常值      1359\n",
      "正常值    158251\n",
      "Name: isDefault, dtype: int64\n",
      "**********\n",
      "正常值    799948\n",
      "异常值        52\n",
      "Name: revolUtil_outliers, dtype: int64\n",
      "revolUtil_outliers\n",
      "异常值        23\n",
      "正常值    159587\n",
      "Name: isDefault, dtype: int64\n",
      "**********\n",
      "正常值    791663\n",
      "异常值      8337\n",
      "Name: totalAcc_outliers, dtype: int64\n",
      "totalAcc_outliers\n",
      "异常值      1668\n",
      "正常值    157942\n",
      "Name: isDefault, dtype: int64\n",
      "**********\n",
      "正常值    800000\n",
      "Name: initialListStatus_outliers, dtype: int64\n",
      "initialListStatus_outliers\n",
      "正常值    159610\n",
      "Name: isDefault, dtype: int64\n",
      "**********\n",
      "正常值    784586\n",
      "异常值     15414\n",
      "Name: applicationType_outliers, dtype: int64\n",
      "applicationType_outliers\n",
      "异常值      3875\n",
      "正常值    155735\n",
      "Name: isDefault, dtype: int64\n",
      "**********\n",
      "正常值    791545\n",
      "异常值      8455\n",
      "Name: earliesCreditLine_outliers, dtype: int64\n",
      "earliesCreditLine_outliers\n",
      "异常值      1791\n",
      "正常值    157819\n",
      "Name: isDefault, dtype: int64\n",
      "**********\n",
      "正常值    775134\n",
      "异常值     24866\n",
      "Name: title_outliers, dtype: int64\n",
      "title_outliers\n",
      "异常值      3900\n",
      "正常值    155710\n",
      "Name: isDefault, dtype: int64\n",
      "**********\n",
      "正常值    800000\n",
      "Name: policyCode_outliers, dtype: int64\n",
      "policyCode_outliers\n",
      "正常值    159610\n",
      "Name: isDefault, dtype: int64\n",
      "**********\n",
      "正常值    782773\n",
      "异常值     17227\n",
      "Name: n0_outliers, dtype: int64\n",
      "n0_outliers\n",
      "异常值      3485\n",
      "正常值    156125\n",
      "Name: isDefault, dtype: int64\n",
      "**********\n",
      "正常值    790500\n",
      "异常值      9500\n",
      "Name: n1_outliers, dtype: int64\n",
      "n1_outliers\n",
      "异常值      2491\n",
      "正常值    157119\n",
      "Name: isDefault, dtype: int64\n",
      "**********\n",
      "正常值    789067\n",
      "异常值     10933\n",
      "Name: n2_outliers, dtype: int64\n",
      "n2_outliers\n",
      "异常值      3205\n",
      "正常值    156405\n",
      "Name: isDefault, dtype: int64\n",
      "**********\n",
      "正常值    789067\n",
      "异常值     10933\n",
      "Name: n3_outliers, dtype: int64\n",
      "n3_outliers\n",
      "异常值      3205\n",
      "正常值    156405\n",
      "Name: isDefault, dtype: int64\n",
      "**********\n",
      "正常值    788660\n",
      "异常值     11340\n",
      "Name: n4_outliers, dtype: int64\n",
      "n4_outliers\n",
      "异常值      2476\n",
      "正常值    157134\n",
      "Name: isDefault, dtype: int64\n",
      "**********\n",
      "正常值    790355\n",
      "异常值      9645\n",
      "Name: n5_outliers, dtype: int64\n",
      "n5_outliers\n",
      "异常值      1858\n",
      "正常值    157752\n",
      "Name: isDefault, dtype: int64\n",
      "**********\n",
      "正常值    786006\n",
      "异常值     13994\n",
      "Name: n6_outliers, dtype: int64\n",
      "n6_outliers\n",
      "异常值      3182\n",
      "正常值    156428\n",
      "Name: isDefault, dtype: int64\n",
      "**********\n",
      "正常值    788430\n",
      "异常值     11570\n",
      "Name: n7_outliers, dtype: int64\n",
      "n7_outliers\n",
      "异常值      2746\n",
      "正常值    156864\n",
      "Name: isDefault, dtype: int64\n",
      "**********\n",
      "正常值    789625\n",
      "异常值     10375\n",
      "Name: n8_outliers, dtype: int64\n",
      "n8_outliers\n",
      "异常值      2131\n",
      "正常值    157479\n",
      "Name: isDefault, dtype: int64\n",
      "**********\n",
      "正常值    786384\n",
      "异常值     13616\n",
      "Name: n9_outliers, dtype: int64\n",
      "n9_outliers\n",
      "异常值      3953\n",
      "正常值    155657\n",
      "Name: isDefault, dtype: int64\n",
      "**********\n",
      "正常值    788979\n",
      "异常值     11021\n",
      "Name: n10_outliers, dtype: int64\n",
      "n10_outliers\n",
      "异常值      2639\n",
      "正常值    156971\n",
      "Name: isDefault, dtype: int64\n",
      "**********\n",
      "正常值    799434\n",
      "异常值       566\n",
      "Name: n11_outliers, dtype: int64\n",
      "n11_outliers\n",
      "异常值       112\n",
      "正常值    159498\n",
      "Name: isDefault, dtype: int64\n",
      "**********\n",
      "正常值    797585\n",
      "异常值      2415\n",
      "Name: n12_outliers, dtype: int64\n",
      "n12_outliers\n",
      "异常值       545\n",
      "正常值    159065\n",
      "Name: isDefault, dtype: int64\n",
      "**********\n",
      "正常值    788907\n",
      "异常值     11093\n",
      "Name: n13_outliers, dtype: int64\n",
      "n13_outliers\n",
      "异常值      2482\n",
      "正常值    157128\n",
      "Name: isDefault, dtype: int64\n",
      "**********\n",
      "正常值    788884\n",
      "异常值     11116\n",
      "Name: n14_outliers, dtype: int64\n",
      "n14_outliers\n",
      "异常值      3364\n",
      "正常值    156246\n",
      "Name: isDefault, dtype: int64\n",
      "**********\n",
      "正常值    792675\n",
      "异常值      7325\n",
      "Name: issueDateDT_outliers, dtype: int64\n",
      "issueDateDT_outliers\n",
      "异常值       965\n",
      "正常值    158645\n",
      "Name: isDefault, dtype: int64\n",
      "**********\n"
     ]
    }
   ],
   "source": [
    "for fea in numerical_fea:\n",
    "    train_minmax = find_outliers_by_3segama(train_minmax,fea)\n",
    "    print(train_minmax[fea+'_outliers'].value_counts())\n",
    "    print(train_minmax.groupby(fea+'_outliers')['isDefault'].sum())\n",
    "    print('*'*10)"
   ]
  },
  {
   "cell_type": "code",
   "execution_count": 14,
   "metadata": {},
   "outputs": [],
   "source": [
    "#删除异常值\n",
    "for fea in numerical_fea:\n",
    "    train_minmax = train_minmax[train_minmax[fea+'_outliers']=='正常值']\n",
    "    train_minmax = train_minmax.reset_index(drop=True) "
   ]
  },
  {
   "cell_type": "code",
   "execution_count": 15,
   "metadata": {},
   "outputs": [],
   "source": [
    "train_minmax=train_minmax.drop(['policyCode'],axis=1)\n",
    "train_minmax=train_minmax.drop(['n14_outliers'],axis=1)\n",
    "train_minmax=train_minmax.drop(['n13_outliers'],axis=1)\n",
    "train_minmax=train_minmax.drop(['n12_outliers'],axis=1)\n",
    "train_minmax=train_minmax.drop(['n11_outliers'],axis=1)\n",
    "train_minmax=train_minmax.drop(['n10_outliers'],axis=1)\n",
    "train_minmax=train_minmax.drop(['n9_outliers'],axis=1)\n",
    "train_minmax=train_minmax.drop(['n8_outliers'],axis=1)\n",
    "train_minmax=train_minmax.drop(['n7_outliers'],axis=1)\n",
    "train_minmax=train_minmax.drop(['n6_outliers'],axis=1)\n",
    "train_minmax=train_minmax.drop(['n5_outliers'],axis=1)\n",
    "train_minmax=train_minmax.drop(['n4_outliers'],axis=1)\n",
    "train_minmax=train_minmax.drop(['n3_outliers'],axis=1)\n",
    "train_minmax=train_minmax.drop(['n2_outliers'],axis=1)\n",
    "train_minmax=train_minmax.drop(['n1_outliers'],axis=1)\n",
    "train_minmax=train_minmax.drop(['n0_outliers'],axis=1)"
   ]
  },
  {
   "cell_type": "code",
   "execution_count": 16,
   "metadata": {},
   "outputs": [],
   "source": [
    "train_minmax=train_minmax.drop(['loanAmnt_outliers'],axis=1)\n",
    "train_minmax=train_minmax.drop(['term_outliers'],axis=1)\n",
    "train_minmax=train_minmax.drop(['interestRate_outliers'],axis=1)\n",
    "\n",
    "train_minmax=train_minmax.drop(['installment_outliers'],axis=1)\n",
    "train_minmax=train_minmax.drop(['employmentTitle_outliers'],axis=1)\n",
    "train_minmax=train_minmax.drop(['homeOwnership_outliers'],axis=1)\n",
    "train_minmax=train_minmax.drop(['annualIncome_outliers'],axis=1)\n",
    "train_minmax=train_minmax.drop(['verificationStatus_outliers'],axis=1)"
   ]
  },
  {
   "cell_type": "code",
   "execution_count": 17,
   "metadata": {},
   "outputs": [],
   "source": [
    "train_minmax=train_minmax.drop(['purpose_outliers'],axis=1)\n",
    "train_minmax=train_minmax.drop(['regionCode_outliers'],axis=1)\n",
    "train_minmax=train_minmax.drop(['postCode_outliers'],axis=1)\n",
    "train_minmax=train_minmax.drop(['delinquency_2years_outliers'],axis=1)\n",
    "train_minmax=train_minmax.drop(['dti_outliers'],axis=1)\n",
    "train_minmax=train_minmax.drop(['ficoRangeLow_outliers'],axis=1)\n",
    "train_minmax=train_minmax.drop(['ficoRangeHigh_outliers'],axis=1)\n",
    "train_minmax=train_minmax.drop(['openAcc_outliers'],axis=1)\n",
    "train_minmax=train_minmax.drop(['pubRec_outliers'],axis=1)\n",
    "train_minmax=train_minmax.drop(['pubRecBankruptcies_outliers'],axis=1)\n",
    "train_minmax=train_minmax.drop(['revolBal_outliers'],axis=1)\n",
    "train_minmax=train_minmax.drop(['revolUtil_outliers'],axis=1)\n",
    "\n",
    "train_minmax=train_minmax.drop(['totalAcc_outliers'],axis=1)\n",
    "train_minmax=train_minmax.drop(['initialListStatus_outliers'],axis=1)\n",
    "train_minmax=train_minmax.drop(['applicationType_outliers'],axis=1)\n",
    "train_minmax=train_minmax.drop(['title_outliers'],axis=1)\n",
    "train_minmax=train_minmax.drop(['policyCode_outliers'],axis=1)"
   ]
  },
  {
   "cell_type": "code",
   "execution_count": 18,
   "metadata": {},
   "outputs": [],
   "source": [
    "train_minmax=train_minmax.drop(['grade_outliers'],axis=1)\n",
    "train_minmax=train_minmax.drop(['subGrade_outliers'],axis=1)\n",
    "train_minmax=train_minmax.drop(['employmentLength_outliers'],axis=1)\n",
    "train_minmax=train_minmax.drop(['isDefault_outliers'],axis=1)\n",
    "train_minmax=train_minmax.drop(['earliesCreditLine_outliers'],axis=1)\n",
    "train_minmax=train_minmax.drop(['issueDateDT_outliers'],axis=1)"
   ]
  },
  {
   "cell_type": "markdown",
   "metadata": {},
   "source": [
    "## 新的一波唯一值"
   ]
  },
  {
   "cell_type": "code",
   "execution_count": 19,
   "metadata": {},
   "outputs": [
    {
     "data": {
      "text/plain": [
       "['applicationType', 'n11', 'n12']"
      ]
     },
     "execution_count": 19,
     "metadata": {},
     "output_type": "execute_result"
    }
   ],
   "source": [
    "one_value_fea = [col for col in train_minmax.columns if train_minmax[col].nunique() <= 1]\n",
    "one_value_fea"
   ]
  },
  {
   "cell_type": "code",
   "execution_count": 20,
   "metadata": {},
   "outputs": [],
   "source": [
    "train_minmax=train_minmax.drop(['applicationType'],axis=1)\n",
    "train_minmax=train_minmax.drop(['n11'],axis=1)\n",
    "train_minmax=train_minmax.drop(['n12'],axis=1)"
   ]
  },
  {
   "cell_type": "markdown",
   "metadata": {},
   "source": [
    "# 建模"
   ]
  },
  {
   "cell_type": "markdown",
   "metadata": {},
   "source": [
    "## Train & Test Split"
   ]
  },
  {
   "cell_type": "code",
   "execution_count": 21,
   "metadata": {},
   "outputs": [],
   "source": [
    "# Make a new copy of the data\n",
    "train_d = train_minmax.copy()"
   ]
  },
  {
   "cell_type": "code",
   "execution_count": 22,
   "metadata": {},
   "outputs": [],
   "source": [
    "# Drop TripType (for y) and the least popular 6 depts. Leaving the rest for X\n",
    "\n",
    "x = train_d.drop('isDefault',axis= 'columns').values\n",
    "y = train_d.isDefault.values\n",
    "\n",
    "# Splitting data into training, validation, and testing data\n",
    "train_x,test_x, train_y, test_y = train_test_split(x, y, test_size=0.2, random_state=999)\n",
    "\n"
   ]
  },
  {
   "cell_type": "code",
   "execution_count": 23,
   "metadata": {},
   "outputs": [
    {
     "name": "stdout",
     "output_type": "stream",
     "text": [
      "(479016, 41)\n",
      "(119754, 41)\n",
      "(479016,)\n",
      "(119754,)\n"
     ]
    }
   ],
   "source": [
    "# show data shape\n",
    "print(train_x.shape)\n",
    "print(test_x.shape)\n",
    "print(train_y.shape)\n",
    "print(test_y.shape)"
   ]
  },
  {
   "cell_type": "markdown",
   "metadata": {},
   "source": [
    "## 回归"
   ]
  },
  {
   "cell_type": "code",
   "execution_count": 32,
   "metadata": {},
   "outputs": [
    {
     "name": "stdout",
     "output_type": "stream",
     "text": [
      "Wall time: 9.26 s\n"
     ]
    }
   ],
   "source": [
    "%%time\n",
    "from sklearn.linear_model import LogisticRegression as LR\n",
    "lrtrain_x = train_x\n",
    "lrtrain_y=train_y\n",
    "lrtest_x = test_x\n",
    "lrtest_y = test_y\n",
    "\n",
    "lr = LR()  # 建立逻辑回归模型\n",
    "lr = lr.fit(lrtrain_x, lrtrain_y)  \n",
    "# 用测试集做预测\n",
    "lrpre_y = lr.predict(lrtest_x)"
   ]
  },
  {
   "cell_type": "code",
   "execution_count": null,
   "metadata": {},
   "outputs": [],
   "source": [
    "from sklearn import metrics\n",
    "from sklearn.metrics import precision_recall_curve\n",
    "from sklearn.metrics import roc_curve"
   ]
  },
  {
   "cell_type": "code",
   "execution_count": 36,
   "metadata": {},
   "outputs": [
    {
     "name": "stdout",
     "output_type": "stream",
     "text": [
      "Precision 0.5115511551155115\n",
      "Recall 0.0664095972579263\n",
      "F1-score: 0.11755783086841108\n"
     ]
    }
   ],
   "source": [
    "## Precision,Recall,F1-score\n",
    "print('Precision',metrics.precision_score(lrtest_y, lrpre_y))\n",
    "print('Recall',metrics.recall_score(lrtest_y, lrpre_y))\n",
    "print('F1-score:',metrics.f1_score(lrtest_y, lrpre_y))"
   ]
  },
  {
   "cell_type": "code",
   "execution_count": 37,
   "metadata": {},
   "outputs": [
    {
     "data": {
      "text/plain": [
       "[<matplotlib.lines.Line2D at 0x2600bca6648>]"
      ]
     },
     "execution_count": 37,
     "metadata": {},
     "output_type": "execute_result"
    },
    {
     "data": {
      "image/png": "[encoded data removed]",
      "text/plain": [
       "<Figure size 432x288 with 1 Axes>"
      ]
     },
     "metadata": {
      "needs_background": "light"
     },
     "output_type": "display_data"
    }
   ],
   "source": [
    "## P-R曲线\n",
    "precision, recall, thresholds = precision_recall_curve(lrtest_y, lrpre_y)\n",
    "plt.plot(precision, recall)"
   ]
  },
  {
   "cell_type": "code",
   "execution_count": 38,
   "metadata": {},
   "outputs": [
    {
     "data": {
      "text/plain": [
       "Text(0.5, 0, 'FPR')"
      ]
     },
     "execution_count": 38,
     "metadata": {},
     "output_type": "execute_result"
    },
    {
     "data": {
      "image/png": "[encoded data removed]",
      "text/plain": [
       "<Figure size 432x288 with 1 Axes>"
      ]
     },
     "metadata": {
      "needs_background": "light"
     },
     "output_type": "display_data"
    }
   ],
   "source": [
    "## ROC曲线\n",
    "FPR,TPR,thresholds=roc_curve(lrtest_y, lrpre_y)\n",
    "plt.title('ROC')\n",
    "plt.plot(FPR, TPR,'b')\n",
    "plt.plot([0,1],[0,1],'r--')\n",
    "plt.ylabel('TPR')\n",
    "plt.xlabel('FPR')"
   ]
  },
  {
   "cell_type": "code",
   "execution_count": 39,
   "metadata": {},
   "outputs": [
    {
     "name": "stdout",
     "output_type": "stream",
     "text": [
      "KS值： 0.05105912948353669\n"
     ]
    }
   ],
   "source": [
    "## KS值 在实际操作时往往使用ROC曲线配合求出KS值\n",
    "FPR,TPR,thresholds=roc_curve(lrtest_y, lrpre_y)\n",
    "KS=abs(FPR-TPR).max()\n",
    "print('KS值：',KS)"
   ]
  },
  {
   "cell_type": "markdown",
   "metadata": {},
   "source": [
    "### Accuracy of Logistic Regression"
   ]
  },
  {
   "cell_type": "code",
   "execution_count": 94,
   "metadata": {},
   "outputs": [
    {
     "name": "stdout",
     "output_type": "stream",
     "text": [
      "The accuracy of Logistic Regression prediction is 80.57%\n"
     ]
    }
   ],
   "source": [
    "print(\"The accuracy of Logistic Regression prediction is\", \n",
    "      '{:.2%}'.format(accuracy_score(lrtest_y,lrpre_y)))"
   ]
  },
  {
   "cell_type": "markdown",
   "metadata": {},
   "source": [
    "### Log Loss of Logistic Regression"
   ]
  },
  {
   "cell_type": "code",
   "execution_count": 95,
   "metadata": {},
   "outputs": [
    {
     "data": {
      "text/plain": [
       "array([0, 0, 0, ..., 0, 0, 0], dtype=int64)"
      ]
     },
     "execution_count": 95,
     "metadata": {},
     "output_type": "execute_result"
    }
   ],
   "source": [
    "#y_pred = pre_y / pre_y.sum(axis=1)[:, np.newaxis]\n",
    "lrpre_y"
   ]
  },
  {
   "cell_type": "code",
   "execution_count": 96,
   "metadata": {},
   "outputs": [
    {
     "data": {
      "text/plain": [
       "array([1, 1, 0, ..., 0, 0, 0], dtype=int64)"
      ]
     },
     "execution_count": 96,
     "metadata": {},
     "output_type": "execute_result"
    }
   ],
   "source": [
    "lrtest_y"
   ]
  },
  {
   "cell_type": "code",
   "execution_count": 97,
   "metadata": {},
   "outputs": [
    {
     "name": "stdout",
     "output_type": "stream",
     "text": [
      "The log loss of Logistic Regression prediction is 0.45\n"
     ]
    }
   ],
   "source": [
    "#print(\"The log loss of Logistic Regression prediction is\", \n",
    "   #   '{:.2}'.format(log_loss(y_true = test_y , y_pred = pre_y,labels=['test_y','pre_y'])))\n",
    "\n",
    "print(\"The log loss of Logistic Regression prediction is\", \n",
    "      '{:.2}'.format(log_loss(lrtest_y, lr.predict_proba(lrtest_x) )))"
   ]
  },
  {
   "cell_type": "markdown",
   "metadata": {},
   "source": [
    "### Confusion Matrix on Logistic Regression"
   ]
  },
  {
   "cell_type": "code",
   "execution_count": 98,
   "metadata": {},
   "outputs": [
    {
     "data": {
      "text/html": [
       "<div>\n",
       "<style scoped>\n",
       "    .dataframe tbody tr th:only-of-type {\n",
       "        vertical-align: middle;\n",
       "    }\n",
       "\n",
       "    .dataframe tbody tr th {\n",
       "        vertical-align: top;\n",
       "    }\n",
       "\n",
       "    .dataframe thead th {\n",
       "        text-align: right;\n",
       "    }\n",
       "</style>\n",
       "<table border=\"1\" class=\"dataframe\">\n",
       "  <thead>\n",
       "    <tr style=\"text-align: right;\">\n",
       "      <th>Predicted</th>\n",
       "      <th>0</th>\n",
       "      <th>1</th>\n",
       "      <th>All</th>\n",
       "    </tr>\n",
       "    <tr>\n",
       "      <th>Actual</th>\n",
       "      <th></th>\n",
       "      <th></th>\n",
       "      <th></th>\n",
       "    </tr>\n",
       "  </thead>\n",
       "  <tbody>\n",
       "    <tr>\n",
       "      <th>0</th>\n",
       "      <td>94934</td>\n",
       "      <td>1480</td>\n",
       "      <td>96414</td>\n",
       "    </tr>\n",
       "    <tr>\n",
       "      <th>1</th>\n",
       "      <td>21790</td>\n",
       "      <td>1550</td>\n",
       "      <td>23340</td>\n",
       "    </tr>\n",
       "    <tr>\n",
       "      <th>All</th>\n",
       "      <td>116724</td>\n",
       "      <td>3030</td>\n",
       "      <td>119754</td>\n",
       "    </tr>\n",
       "  </tbody>\n",
       "</table>\n",
       "</div>"
      ],
      "text/plain": [
       "Predicted       0     1     All\n",
       "Actual                         \n",
       "0           94934  1480   96414\n",
       "1           21790  1550   23340\n",
       "All        116724  3030  119754"
      ]
     },
     "execution_count": 98,
     "metadata": {},
     "output_type": "execute_result"
    }
   ],
   "source": [
    "#cm = confusion_matrix(test_y, pre_y)\n",
    "#cm\n",
    "pd.crosstab(index    = lrtest_y, \n",
    "            columns  = lrpre_y, \n",
    "            rownames = ['Actual'], \n",
    "            colnames = ['Predicted'], \n",
    "            margins  = True)"
   ]
  },
  {
   "cell_type": "code",
   "execution_count": 99,
   "metadata": {},
   "outputs": [
    {
     "name": "stdout",
     "output_type": "stream",
     "text": [
      "              precision    recall  f1-score   support\n",
      "\n",
      "           0       0.81      0.98      0.89     96414\n",
      "           1       0.51      0.07      0.12     23340\n",
      "\n",
      "    accuracy                           0.81    119754\n",
      "   macro avg       0.66      0.53      0.50    119754\n",
      "weighted avg       0.75      0.81      0.74    119754\n",
      "\n"
     ]
    }
   ],
   "source": [
    "print(classification_report(lrtest_y, lrpre_y))"
   ]
  },
  {
   "cell_type": "markdown",
   "metadata": {},
   "source": [
    "## Supervised Learning - Decision Tree"
   ]
  },
  {
   "cell_type": "code",
   "execution_count": 40,
   "metadata": {},
   "outputs": [
    {
     "name": "stdout",
     "output_type": "stream",
     "text": [
      "Wall time: 20.2 s\n"
     ]
    }
   ],
   "source": [
    "%%time\n",
    "from sklearn.tree import DecisionTreeClassifier as DTC\n",
    "dtctrain_x = train_x\n",
    "dtctrain_y=train_y\n",
    "dtctest_x = test_x\n",
    "dtctest_y = test_y\n",
    "\n",
    "dtc = DTC()  # 建立逻辑回归模型\n",
    "dtc = dtc.fit(dtctrain_x, dtctrain_y)  \n",
    "# 用测试集做预测\n",
    "dtcpre_y = dtc.predict(dtctest_x)"
   ]
  },
  {
   "cell_type": "code",
   "execution_count": 43,
   "metadata": {},
   "outputs": [
    {
     "name": "stdout",
     "output_type": "stream",
     "text": [
      "Precision 0.2732417453750683\n",
      "Recall 0.29995715509854326\n",
      "F1-score: 0.2859768800294105\n"
     ]
    },
    {
     "data": {
      "text/plain": [
       "[<matplotlib.lines.Line2D at 0x2600c426bc8>]"
      ]
     },
     "execution_count": 43,
     "metadata": {},
     "output_type": "execute_result"
    },
    {
     "data": {
      "image/png": "[encoded data removed]",
      "text/plain": [
       "<Figure size 432x288 with 1 Axes>"
      ]
     },
     "metadata": {
      "needs_background": "light"
     },
     "output_type": "display_data"
    }
   ],
   "source": [
    "## Precision,Recall,F1-score\n",
    "print('Precision',metrics.precision_score(dtctest_y, dtcpre_y))\n",
    "print('Recall',metrics.recall_score(dtctest_y, dtcpre_y))\n",
    "print('F1-score:',metrics.f1_score(dtctest_y, dtcpre_y))\n",
    "\n",
    "## P-R曲线\n",
    "precision, recall, thresholds = precision_recall_curve(dtctest_y, dtcpre_y)\n",
    "plt.plot(precision, recall)"
   ]
  },
  {
   "cell_type": "code",
   "execution_count": 44,
   "metadata": {},
   "outputs": [
    {
     "data": {
      "text/plain": [
       "Text(0.5, 0, 'FPR')"
      ]
     },
     "execution_count": 44,
     "metadata": {},
     "output_type": "execute_result"
    },
    {
     "data": {
      "image/png": "[encoded data removed]",
      "text/plain": [
       "<Figure size 432x288 with 1 Axes>"
      ]
     },
     "metadata": {
      "needs_background": "light"
     },
     "output_type": "display_data"
    }
   ],
   "source": [
    "## ROC曲线\n",
    "FPR,TPR,thresholds=roc_curve(dtctest_y, dtcpre_y)\n",
    "plt.title('ROC')\n",
    "plt.plot(FPR, TPR,'b')\n",
    "plt.plot([0,1],[0,1],'r--')\n",
    "plt.ylabel('TPR')\n",
    "plt.xlabel('FPR')"
   ]
  },
  {
   "cell_type": "code",
   "execution_count": 45,
   "metadata": {},
   "outputs": [
    {
     "name": "stdout",
     "output_type": "stream",
     "text": [
      "KS值： 0.10682130345873991\n"
     ]
    }
   ],
   "source": [
    "## KS值 在实际操作时往往使用ROC曲线配合求出KS值\n",
    "FPR,TPR,thresholds=roc_curve(dtctest_y, dtcpre_y)\n",
    "KS=abs(FPR-TPR).max()\n",
    "print('KS值：',KS)"
   ]
  },
  {
   "cell_type": "code",
   "execution_count": null,
   "metadata": {},
   "outputs": [],
   "source": []
  },
  {
   "cell_type": "markdown",
   "metadata": {},
   "source": [
    "### Accuracy of Decision Tree"
   ]
  },
  {
   "cell_type": "code",
   "execution_count": 101,
   "metadata": {},
   "outputs": [
    {
     "name": "stdout",
     "output_type": "stream",
     "text": [
      "The accuracy of Decision Tree prediction is 70.91%\n"
     ]
    }
   ],
   "source": [
    "print(\"The accuracy of Decision Tree prediction is\", \n",
    "      '{:.2%}'.format(accuracy_score(dtctest_y,dtcpre_y)))"
   ]
  },
  {
   "cell_type": "markdown",
   "metadata": {},
   "source": [
    "### Log Loss of Decision Tree"
   ]
  },
  {
   "cell_type": "code",
   "execution_count": 102,
   "metadata": {},
   "outputs": [
    {
     "data": {
      "text/plain": [
       "array([0, 0, 0, ..., 0, 0, 0], dtype=int64)"
      ]
     },
     "execution_count": 102,
     "metadata": {},
     "output_type": "execute_result"
    }
   ],
   "source": [
    "#y_pred = pre_y / pre_y.sum(axis=1)[:, np.newaxis]\n",
    "dtcpre_y"
   ]
  },
  {
   "cell_type": "code",
   "execution_count": 103,
   "metadata": {},
   "outputs": [
    {
     "data": {
      "text/plain": [
       "array([1, 1, 0, ..., 0, 0, 0], dtype=int64)"
      ]
     },
     "execution_count": 103,
     "metadata": {},
     "output_type": "execute_result"
    }
   ],
   "source": [
    "dtctest_y"
   ]
  },
  {
   "cell_type": "code",
   "execution_count": 104,
   "metadata": {},
   "outputs": [
    {
     "name": "stdout",
     "output_type": "stream",
     "text": [
      "The log loss of Decision Tree prediction is 1e+01\n"
     ]
    }
   ],
   "source": [
    "#print(\"The log loss of Logistic Regression prediction is\", \n",
    "   #   '{:.2}'.format(log_loss(y_true = test_y , y_pred = pre_y,labels=['test_y','pre_y'])))\n",
    "\n",
    "print(\"The log loss of Decision Tree prediction is\", \n",
    "      '{:.2}'.format(log_loss(dtctest_y, dtc.predict_proba(dtctest_x) )))"
   ]
  },
  {
   "cell_type": "markdown",
   "metadata": {},
   "source": [
    "### Confusion Matrix Decision Tree"
   ]
  },
  {
   "cell_type": "code",
   "execution_count": 105,
   "metadata": {},
   "outputs": [
    {
     "data": {
      "text/html": [
       "<div>\n",
       "<style scoped>\n",
       "    .dataframe tbody tr th:only-of-type {\n",
       "        vertical-align: middle;\n",
       "    }\n",
       "\n",
       "    .dataframe tbody tr th {\n",
       "        vertical-align: top;\n",
       "    }\n",
       "\n",
       "    .dataframe thead th {\n",
       "        text-align: right;\n",
       "    }\n",
       "</style>\n",
       "<table border=\"1\" class=\"dataframe\">\n",
       "  <thead>\n",
       "    <tr style=\"text-align: right;\">\n",
       "      <th>Predicted</th>\n",
       "      <th>0</th>\n",
       "      <th>1</th>\n",
       "      <th>All</th>\n",
       "    </tr>\n",
       "    <tr>\n",
       "      <th>Actual</th>\n",
       "      <th></th>\n",
       "      <th></th>\n",
       "      <th></th>\n",
       "    </tr>\n",
       "  </thead>\n",
       "  <tbody>\n",
       "    <tr>\n",
       "      <th>0</th>\n",
       "      <td>77920</td>\n",
       "      <td>18494</td>\n",
       "      <td>96414</td>\n",
       "    </tr>\n",
       "    <tr>\n",
       "      <th>1</th>\n",
       "      <td>16343</td>\n",
       "      <td>6997</td>\n",
       "      <td>23340</td>\n",
       "    </tr>\n",
       "    <tr>\n",
       "      <th>All</th>\n",
       "      <td>94263</td>\n",
       "      <td>25491</td>\n",
       "      <td>119754</td>\n",
       "    </tr>\n",
       "  </tbody>\n",
       "</table>\n",
       "</div>"
      ],
      "text/plain": [
       "Predicted      0      1     All\n",
       "Actual                         \n",
       "0          77920  18494   96414\n",
       "1          16343   6997   23340\n",
       "All        94263  25491  119754"
      ]
     },
     "execution_count": 105,
     "metadata": {},
     "output_type": "execute_result"
    }
   ],
   "source": [
    "#cm = confusion_matrix(test_y, pre_y)\n",
    "#cm\n",
    "pd.crosstab(index    = dtctest_y, \n",
    "            columns  = dtcpre_y, \n",
    "            rownames = ['Actual'], \n",
    "            colnames = ['Predicted'], \n",
    "            margins  = True)"
   ]
  },
  {
   "cell_type": "code",
   "execution_count": 106,
   "metadata": {},
   "outputs": [
    {
     "name": "stdout",
     "output_type": "stream",
     "text": [
      "              precision    recall  f1-score   support\n",
      "\n",
      "           0       0.83      0.81      0.82     96414\n",
      "           1       0.27      0.30      0.29     23340\n",
      "\n",
      "    accuracy                           0.71    119754\n",
      "   macro avg       0.55      0.55      0.55    119754\n",
      "weighted avg       0.72      0.71      0.71    119754\n",
      "\n"
     ]
    }
   ],
   "source": [
    "print(classification_report(dtctest_y, dtcpre_y))"
   ]
  },
  {
   "cell_type": "markdown",
   "metadata": {},
   "source": [
    "## 判别分析"
   ]
  },
  {
   "cell_type": "code",
   "execution_count": 46,
   "metadata": {},
   "outputs": [
    {
     "name": "stdout",
     "output_type": "stream",
     "text": [
      "Wall time: 20min 57s\n"
     ]
    }
   ],
   "source": [
    "%%time\n",
    "from sklearn.neighbors import KNeighborsClassifier as KNC\n",
    "knctrain_x = train_x\n",
    "knctrain_y=train_y\n",
    "knctest_x = test_x\n",
    "knctest_y = test_y\n",
    "\n",
    "knc = KNC()  # 建立判别模型\n",
    "knc = knc.fit(knctrain_x, knctrain_y)  \n",
    "\n",
    "# 用测试集做预测\n",
    "kncpre_y = knc.predict(knctest_x)"
   ]
  },
  {
   "cell_type": "code",
   "execution_count": 47,
   "metadata": {},
   "outputs": [
    {
     "name": "stdout",
     "output_type": "stream",
     "text": [
      "Precision 0.3533459000942507\n",
      "Recall 0.1606255355612682\n",
      "F1-score: 0.2208541973490427\n"
     ]
    }
   ],
   "source": [
    "## Precision,Recall,F1-score\n",
    "print('Precision',metrics.precision_score(knctest_y, kncpre_y))\n",
    "print('Recall',metrics.recall_score(knctest_y, kncpre_y))\n",
    "print('F1-score:',metrics.f1_score(knctest_y, kncpre_y))\n"
   ]
  },
  {
   "cell_type": "code",
   "execution_count": 48,
   "metadata": {},
   "outputs": [
    {
     "data": {
      "text/plain": [
       "[<matplotlib.lines.Line2D at 0x2600cb0e788>]"
      ]
     },
     "execution_count": 48,
     "metadata": {},
     "output_type": "execute_result"
    },
    {
     "data": {
      "image/png": "[encoded data removed]",
      "text/plain": [
       "<Figure size 432x288 with 1 Axes>"
      ]
     },
     "metadata": {
      "needs_background": "light"
     },
     "output_type": "display_data"
    }
   ],
   "source": [
    "## P-R曲线\n",
    "precision, recall, thresholds = precision_recall_curve(knctest_y, kncpre_y)\n",
    "plt.plot(precision, recall)"
   ]
  },
  {
   "cell_type": "code",
   "execution_count": 49,
   "metadata": {},
   "outputs": [
    {
     "data": {
      "text/plain": [
       "Text(0.5, 0, 'FPR')"
      ]
     },
     "execution_count": 49,
     "metadata": {},
     "output_type": "execute_result"
    },
    {
     "data": {
      "image/png": "[encoded data removed]",
      "text/plain": [
       "<Figure size 432x288 with 1 Axes>"
      ]
     },
     "metadata": {
      "needs_background": "light"
     },
     "output_type": "display_data"
    }
   ],
   "source": [
    "## ROC曲线\n",
    "FPR,TPR,thresholds=roc_curve(knctest_y, kncpre_y)\n",
    "plt.title('ROC')\n",
    "plt.plot(FPR, TPR,'b')\n",
    "plt.plot([0,1],[0,1],'r--')\n",
    "plt.ylabel('TPR')\n",
    "plt.xlabel('FPR')"
   ]
  },
  {
   "cell_type": "code",
   "execution_count": 50,
   "metadata": {},
   "outputs": [
    {
     "name": "stdout",
     "output_type": "stream",
     "text": [
      "KS值： 0.08946367110174988\n"
     ]
    }
   ],
   "source": [
    "## KS值 在实际操作时往往使用ROC曲线配合求出KS值\n",
    "FPR,TPR,thresholds=roc_curve(knctest_y, kncpre_y)\n",
    "KS=abs(FPR-TPR).max()\n",
    "print('KS值：',KS)"
   ]
  },
  {
   "cell_type": "markdown",
   "metadata": {},
   "source": [
    "### Accuracy of Decision KNC"
   ]
  },
  {
   "cell_type": "code",
   "execution_count": 25,
   "metadata": {},
   "outputs": [
    {
     "name": "stdout",
     "output_type": "stream",
     "text": [
      "The accuracy of KNC prediction is 77.91%\n"
     ]
    }
   ],
   "source": [
    "print(\"The accuracy of KNC prediction is\", \n",
    "      '{:.2%}'.format(accuracy_score(knctest_y,kncpre_y)))"
   ]
  },
  {
   "cell_type": "markdown",
   "metadata": {},
   "source": [
    "### Log Loss of Decision KNC"
   ]
  },
  {
   "cell_type": "code",
   "execution_count": 26,
   "metadata": {},
   "outputs": [
    {
     "data": {
      "text/plain": [
       "array([0, 0, 0, ..., 0, 0, 0], dtype=int64)"
      ]
     },
     "execution_count": 26,
     "metadata": {},
     "output_type": "execute_result"
    }
   ],
   "source": [
    "#y_pred = pre_y / pre_y.sum(axis=1)[:, np.newaxis]\n",
    "kncpre_y"
   ]
  },
  {
   "cell_type": "code",
   "execution_count": 27,
   "metadata": {},
   "outputs": [
    {
     "data": {
      "text/plain": [
       "array([1, 1, 0, ..., 0, 0, 0], dtype=int64)"
      ]
     },
     "execution_count": 27,
     "metadata": {},
     "output_type": "execute_result"
    }
   ],
   "source": [
    "knctest_y"
   ]
  },
  {
   "cell_type": "code",
   "execution_count": 28,
   "metadata": {},
   "outputs": [
    {
     "name": "stdout",
     "output_type": "stream",
     "text": [
      "The log loss of KNC prediction is 2.2\n"
     ]
    }
   ],
   "source": [
    "#print(\"The log loss of Logistic Regression prediction is\", \n",
    "   #   '{:.2}'.format(log_loss(y_true = test_y , y_pred = pre_y,labels=['test_y','pre_y'])))\n",
    "\n",
    "print(\"The log loss of KNC prediction is\", \n",
    "      '{:.2}'.format(log_loss(knctest_y, knc.predict_proba(knctest_x) )))"
   ]
  },
  {
   "cell_type": "markdown",
   "metadata": {},
   "source": [
    "### Confusion Matrix KNC"
   ]
  },
  {
   "cell_type": "code",
   "execution_count": 29,
   "metadata": {},
   "outputs": [
    {
     "data": {
      "text/html": [
       "<div>\n",
       "<style scoped>\n",
       "    .dataframe tbody tr th:only-of-type {\n",
       "        vertical-align: middle;\n",
       "    }\n",
       "\n",
       "    .dataframe tbody tr th {\n",
       "        vertical-align: top;\n",
       "    }\n",
       "\n",
       "    .dataframe thead th {\n",
       "        text-align: right;\n",
       "    }\n",
       "</style>\n",
       "<table border=\"1\" class=\"dataframe\">\n",
       "  <thead>\n",
       "    <tr style=\"text-align: right;\">\n",
       "      <th>Predicted</th>\n",
       "      <th>0</th>\n",
       "      <th>1</th>\n",
       "      <th>All</th>\n",
       "    </tr>\n",
       "    <tr>\n",
       "      <th>Actual</th>\n",
       "      <th></th>\n",
       "      <th></th>\n",
       "      <th></th>\n",
       "    </tr>\n",
       "  </thead>\n",
       "  <tbody>\n",
       "    <tr>\n",
       "      <th>0</th>\n",
       "      <td>89553</td>\n",
       "      <td>6861</td>\n",
       "      <td>96414</td>\n",
       "    </tr>\n",
       "    <tr>\n",
       "      <th>1</th>\n",
       "      <td>19591</td>\n",
       "      <td>3749</td>\n",
       "      <td>23340</td>\n",
       "    </tr>\n",
       "    <tr>\n",
       "      <th>All</th>\n",
       "      <td>109144</td>\n",
       "      <td>10610</td>\n",
       "      <td>119754</td>\n",
       "    </tr>\n",
       "  </tbody>\n",
       "</table>\n",
       "</div>"
      ],
      "text/plain": [
       "Predicted       0      1     All\n",
       "Actual                          \n",
       "0           89553   6861   96414\n",
       "1           19591   3749   23340\n",
       "All        109144  10610  119754"
      ]
     },
     "execution_count": 29,
     "metadata": {},
     "output_type": "execute_result"
    }
   ],
   "source": [
    "#cm = confusion_matrix(test_y, pre_y)\n",
    "#cm\n",
    "pd.crosstab(index    = knctest_y, \n",
    "            columns  = kncpre_y, \n",
    "            rownames = ['Actual'], \n",
    "            colnames = ['Predicted'], \n",
    "            margins  = True)"
   ]
  },
  {
   "cell_type": "code",
   "execution_count": 30,
   "metadata": {},
   "outputs": [
    {
     "name": "stdout",
     "output_type": "stream",
     "text": [
      "              precision    recall  f1-score   support\n",
      "\n",
      "           0       0.82      0.93      0.87     96414\n",
      "           1       0.35      0.16      0.22     23340\n",
      "\n",
      "    accuracy                           0.78    119754\n",
      "   macro avg       0.59      0.54      0.55    119754\n",
      "weighted avg       0.73      0.78      0.74    119754\n",
      "\n"
     ]
    }
   ],
   "source": [
    "print(classification_report(knctest_y, kncpre_y))"
   ]
  },
  {
   "cell_type": "markdown",
   "metadata": {},
   "source": [
    "## 神经网络"
   ]
  },
  {
   "cell_type": "markdown",
   "metadata": {},
   "source": [
    "### 【50,50】"
   ]
  },
  {
   "cell_type": "code",
   "execution_count": 51,
   "metadata": {},
   "outputs": [
    {
     "name": "stdout",
     "output_type": "stream",
     "text": [
      "Wall time: 10min 55s\n"
     ]
    }
   ],
   "source": [
    "%%time\n",
    "from sklearn.neural_network import MLPClassifier as MLP\n",
    "mlptrain_x = train_x\n",
    "mlptrain_y=train_y\n",
    "mlptest_x = test_x\n",
    "mlptest_y = test_y\n",
    "\n",
    "mlp = MLP(solver = 'adam',hidden_layer_sizes = [50,50],max_iter = 2000,random_state = 0)# 建立神经网络模型\n",
    "mlp = mlp.fit(mlptrain_x, mlptrain_y)  \n",
    "# 用测试集做预测\n",
    "mlppre_y = mlp.predict(mlptest_x)"
   ]
  },
  {
   "cell_type": "code",
   "execution_count": 52,
   "metadata": {},
   "outputs": [
    {
     "name": "stdout",
     "output_type": "stream",
     "text": [
      "Precision 0.5791035915701989\n",
      "Recall 0.08359040274207369\n",
      "F1-score: 0.14609307723988169\n"
     ]
    }
   ],
   "source": [
    "## Precision,Recall,F1-score\n",
    "print('Precision',metrics.precision_score(mlptest_y, mlppre_y))\n",
    "print('Recall',metrics.recall_score(mlptest_y, mlppre_y))\n",
    "print('F1-score:',metrics.f1_score(mlptest_y, mlppre_y))"
   ]
  },
  {
   "cell_type": "code",
   "execution_count": 53,
   "metadata": {},
   "outputs": [
    {
     "data": {
      "text/plain": [
       "[<matplotlib.lines.Line2D at 0x2600cc451c8>]"
      ]
     },
     "execution_count": 53,
     "metadata": {},
     "output_type": "execute_result"
    },
    {
     "data": {
      "image/png": "[encoded data removed]",
      "text/plain": [
       "<Figure size 432x288 with 1 Axes>"
      ]
     },
     "metadata": {
      "needs_background": "light"
     },
     "output_type": "display_data"
    }
   ],
   "source": [
    "## P-R曲线\n",
    "precision, recall, thresholds = precision_recall_curve(mlptest_y, mlppre_y)\n",
    "plt.plot(precision, recall)"
   ]
  },
  {
   "cell_type": "code",
   "execution_count": 54,
   "metadata": {},
   "outputs": [
    {
     "data": {
      "text/plain": [
       "Text(0.5, 0, 'FPR')"
      ]
     },
     "execution_count": 54,
     "metadata": {},
     "output_type": "execute_result"
    },
    {
     "data": {
      "image/png": "[encoded data removed]",
      "text/plain": [
       "<Figure size 432x288 with 1 Axes>"
      ]
     },
     "metadata": {
      "needs_background": "light"
     },
     "output_type": "display_data"
    }
   ],
   "source": [
    "## ROC曲线\n",
    "FPR,TPR,thresholds=roc_curve(mlptest_y, mlppre_y)\n",
    "plt.title('ROC')\n",
    "plt.plot(FPR, TPR,'b')\n",
    "plt.plot([0,1],[0,1],'r--')\n",
    "plt.ylabel('TPR')\n",
    "plt.xlabel('FPR')"
   ]
  },
  {
   "cell_type": "code",
   "execution_count": 55,
   "metadata": {},
   "outputs": [
    {
     "name": "stdout",
     "output_type": "stream",
     "text": [
      "KS值： 0.06888299510417878\n"
     ]
    }
   ],
   "source": [
    "## KS值 在实际操作时往往使用ROC曲线配合求出KS值\n",
    "FPR,TPR,thresholds=roc_curve(mlptest_y, mlppre_y)\n",
    "KS=abs(FPR-TPR).max()\n",
    "print('KS值：',KS)"
   ]
  },
  {
   "cell_type": "markdown",
   "metadata": {},
   "source": [
    "### Accuracy of Decision MLP"
   ]
  },
  {
   "cell_type": "code",
   "execution_count": 32,
   "metadata": {},
   "outputs": [
    {
     "name": "stdout",
     "output_type": "stream",
     "text": [
      "The accuracy of MLP prediction is 80.96%\n"
     ]
    }
   ],
   "source": [
    "print(\"The accuracy of MLP prediction is\", \n",
    "      '{:.2%}'.format(accuracy_score(mlptest_y,mlppre_y)))"
   ]
  },
  {
   "cell_type": "markdown",
   "metadata": {},
   "source": [
    "### Log Loss of Decision MLP"
   ]
  },
  {
   "cell_type": "code",
   "execution_count": 33,
   "metadata": {},
   "outputs": [
    {
     "data": {
      "text/plain": [
       "array([0, 0, 0, ..., 0, 0, 0], dtype=int64)"
      ]
     },
     "execution_count": 33,
     "metadata": {},
     "output_type": "execute_result"
    }
   ],
   "source": [
    "#y_pred = pre_y / pre_y.sum(axis=1)[:, np.newaxis]\n",
    "mlppre_y"
   ]
  },
  {
   "cell_type": "code",
   "execution_count": 34,
   "metadata": {},
   "outputs": [
    {
     "data": {
      "text/plain": [
       "array([1, 1, 0, ..., 0, 0, 0], dtype=int64)"
      ]
     },
     "execution_count": 34,
     "metadata": {},
     "output_type": "execute_result"
    }
   ],
   "source": [
    "mlptest_y"
   ]
  },
  {
   "cell_type": "code",
   "execution_count": 35,
   "metadata": {},
   "outputs": [
    {
     "name": "stdout",
     "output_type": "stream",
     "text": [
      "The log loss of MLP prediction is 0.44\n"
     ]
    }
   ],
   "source": [
    "#print(\"The log loss of Logistic Regression prediction is\", \n",
    "   #   '{:.2}'.format(log_loss(y_true = test_y , y_pred = pre_y,labels=['test_y','pre_y'])))\n",
    "\n",
    "print(\"The log loss of MLP prediction is\", \n",
    "      '{:.2}'.format(log_loss(mlptest_y, mlp.predict_proba(mlptest_x) )))"
   ]
  },
  {
   "cell_type": "markdown",
   "metadata": {},
   "source": [
    "### Confusion Matrix MLP"
   ]
  },
  {
   "cell_type": "code",
   "execution_count": 36,
   "metadata": {},
   "outputs": [
    {
     "data": {
      "text/html": [
       "<div>\n",
       "<style scoped>\n",
       "    .dataframe tbody tr th:only-of-type {\n",
       "        vertical-align: middle;\n",
       "    }\n",
       "\n",
       "    .dataframe tbody tr th {\n",
       "        vertical-align: top;\n",
       "    }\n",
       "\n",
       "    .dataframe thead th {\n",
       "        text-align: right;\n",
       "    }\n",
       "</style>\n",
       "<table border=\"1\" class=\"dataframe\">\n",
       "  <thead>\n",
       "    <tr style=\"text-align: right;\">\n",
       "      <th>Predicted</th>\n",
       "      <th>0</th>\n",
       "      <th>1</th>\n",
       "      <th>All</th>\n",
       "    </tr>\n",
       "    <tr>\n",
       "      <th>Actual</th>\n",
       "      <th></th>\n",
       "      <th></th>\n",
       "      <th></th>\n",
       "    </tr>\n",
       "  </thead>\n",
       "  <tbody>\n",
       "    <tr>\n",
       "      <th>0</th>\n",
       "      <td>94996</td>\n",
       "      <td>1418</td>\n",
       "      <td>96414</td>\n",
       "    </tr>\n",
       "    <tr>\n",
       "      <th>1</th>\n",
       "      <td>21389</td>\n",
       "      <td>1951</td>\n",
       "      <td>23340</td>\n",
       "    </tr>\n",
       "    <tr>\n",
       "      <th>All</th>\n",
       "      <td>116385</td>\n",
       "      <td>3369</td>\n",
       "      <td>119754</td>\n",
       "    </tr>\n",
       "  </tbody>\n",
       "</table>\n",
       "</div>"
      ],
      "text/plain": [
       "Predicted       0     1     All\n",
       "Actual                         \n",
       "0           94996  1418   96414\n",
       "1           21389  1951   23340\n",
       "All        116385  3369  119754"
      ]
     },
     "execution_count": 36,
     "metadata": {},
     "output_type": "execute_result"
    }
   ],
   "source": [
    "#cm = confusion_matrix(test_y, pre_y)\n",
    "#cm\n",
    "pd.crosstab(index    = mlptest_y, \n",
    "            columns  = mlppre_y, \n",
    "            rownames = ['Actual'], \n",
    "            colnames = ['Predicted'], \n",
    "            margins  = True)"
   ]
  },
  {
   "cell_type": "code",
   "execution_count": 37,
   "metadata": {},
   "outputs": [
    {
     "name": "stdout",
     "output_type": "stream",
     "text": [
      "              precision    recall  f1-score   support\n",
      "\n",
      "           0       0.82      0.99      0.89     96414\n",
      "           1       0.58      0.08      0.15     23340\n",
      "\n",
      "    accuracy                           0.81    119754\n",
      "   macro avg       0.70      0.53      0.52    119754\n",
      "weighted avg       0.77      0.81      0.75    119754\n",
      "\n"
     ]
    }
   ],
   "source": [
    "print(classification_report(mlptest_y, mlppre_y))"
   ]
  },
  {
   "cell_type": "markdown",
   "metadata": {},
   "source": [
    "### 【100,100】"
   ]
  },
  {
   "cell_type": "markdown",
   "metadata": {},
   "source": [
    "### 【1200，1200】"
   ]
  },
  {
   "cell_type": "code",
   "execution_count": 41,
   "metadata": {},
   "outputs": [
    {
     "name": "stdout",
     "output_type": "stream",
     "text": [
      "Wall time: 10min 49s\n"
     ]
    }
   ],
   "source": [
    "%%time\n",
    "from sklearn.neural_network import MLPClassifier as MLP\n",
    "mlptrain_x2 = train_x\n",
    "mlptrain_y2=train_y\n",
    "mlptest_x2 = test_x\n",
    "mlptest_y2 = test_y\n",
    "\n",
    "mlp2 = MLP(solver = 'adam',hidden_layer_sizes = [1200,1200],max_iter = 200000,random_state = 0)# 建立神经网络模型\n",
    "mlp2 = mlp2.fit(mlptrain_x2, mlptrain_y2)  \n",
    "# 用测试集做预测\n",
    "mlppre_y2 = mlp2.predict(mlptest_x2)"
   ]
  },
  {
   "cell_type": "code",
   "execution_count": null,
   "metadata": {},
   "outputs": [],
   "source": [
    "print(\"The accuracy of MLP prediction is\", \n",
    "      '{:.2%}'.format(accuracy_score(mlptest_y2,mlppre_y2)))"
   ]
  },
  {
   "cell_type": "code",
   "execution_count": null,
   "metadata": {},
   "outputs": [],
   "source": [
    "#cm = confusion_matrix(test_y, pre_y)\n",
    "#cm\n",
    "pd.crosstab(index    = mlptest_y2, \n",
    "            columns  = mlppre_y2, \n",
    "            rownames = ['Actual'], \n",
    "            colnames = ['Predicted'], \n",
    "            margins  = True)"
   ]
  },
  {
   "cell_type": "code",
   "execution_count": null,
   "metadata": {},
   "outputs": [],
   "source": []
  },
  {
   "cell_type": "code",
   "execution_count": null,
   "metadata": {},
   "outputs": [],
   "source": []
  },
  {
   "cell_type": "code",
   "execution_count": 24,
   "metadata": {},
   "outputs": [
    {
     "name": "stdout",
     "output_type": "stream",
     "text": [
      "Wall time: 8h 9min 28s\n"
     ]
    }
   ],
   "source": [
    "%%time\n",
    "from sklearn.neural_network import MLPClassifier as MLP\n",
    "mlptrain_x3 = train_x\n",
    "mlptrain_y3=train_y\n",
    "mlptest_x3 = test_x\n",
    "mlptest_y3 = test_y\n",
    "\n",
    "mlp3 = MLP(solver = 'adam',hidden_layer_sizes = [500,500,500],max_iter = 20000,random_state = 0,tol = 1e-5)# 建立神经网络模型\n",
    "mlp3 = mlp3.fit(mlptrain_x3, mlptrain_y3)  \n",
    "# 用测试集做预测\n",
    "mlppre_y3 = mlp3.predict(mlptest_x3)"
   ]
  },
  {
   "cell_type": "code",
   "execution_count": 25,
   "metadata": {},
   "outputs": [
    {
     "name": "stdout",
     "output_type": "stream",
     "text": [
      "The accuracy of MLP prediction is 80.52%\n"
     ]
    }
   ],
   "source": [
    "print(\"The accuracy of MLP prediction is\", \n",
    "      '{:.2%}'.format(accuracy_score(mlptest_y3,mlppre_y3)))"
   ]
  },
  {
   "cell_type": "code",
   "execution_count": null,
   "metadata": {},
   "outputs": [],
   "source": []
  },
  {
   "cell_type": "code",
   "execution_count": 55,
   "metadata": {},
   "outputs": [
    {
     "data": {
      "text/html": [
       "<div>\n",
       "<style scoped>\n",
       "    .dataframe tbody tr th:only-of-type {\n",
       "        vertical-align: middle;\n",
       "    }\n",
       "\n",
       "    .dataframe tbody tr th {\n",
       "        vertical-align: top;\n",
       "    }\n",
       "\n",
       "    .dataframe thead th {\n",
       "        text-align: right;\n",
       "    }\n",
       "</style>\n",
       "<table border=\"1\" class=\"dataframe\">\n",
       "  <thead>\n",
       "    <tr style=\"text-align: right;\">\n",
       "      <th>Predicted</th>\n",
       "      <th>0</th>\n",
       "      <th>1</th>\n",
       "      <th>All</th>\n",
       "    </tr>\n",
       "    <tr>\n",
       "      <th>Actual</th>\n",
       "      <th></th>\n",
       "      <th></th>\n",
       "      <th></th>\n",
       "    </tr>\n",
       "  </thead>\n",
       "  <tbody>\n",
       "    <tr>\n",
       "      <th>0</th>\n",
       "      <td>94996</td>\n",
       "      <td>1418</td>\n",
       "      <td>96414</td>\n",
       "    </tr>\n",
       "    <tr>\n",
       "      <th>1</th>\n",
       "      <td>21389</td>\n",
       "      <td>1951</td>\n",
       "      <td>23340</td>\n",
       "    </tr>\n",
       "    <tr>\n",
       "      <th>All</th>\n",
       "      <td>116385</td>\n",
       "      <td>3369</td>\n",
       "      <td>119754</td>\n",
       "    </tr>\n",
       "  </tbody>\n",
       "</table>\n",
       "</div>"
      ],
      "text/plain": [
       "Predicted       0     1     All\n",
       "Actual                         \n",
       "0           94996  1418   96414\n",
       "1           21389  1951   23340\n",
       "All        116385  3369  119754"
      ]
     },
     "execution_count": 55,
     "metadata": {},
     "output_type": "execute_result"
    }
   ],
   "source": [
    "#cm = confusion_matrix(test_y, pre_y)\n",
    "#cm\n",
    "pd.crosstab(index    = mlptest_y3, \n",
    "            columns  = mlppre_y3, \n",
    "            rownames = ['Actual'], \n",
    "            colnames = ['Predicted'], \n",
    "            margins  = True)"
   ]
  },
  {
   "cell_type": "code",
   "execution_count": null,
   "metadata": {},
   "outputs": [],
   "source": []
  },
  {
   "cell_type": "markdown",
   "metadata": {},
   "source": [
    "## GBDT"
   ]
  },
  {
   "cell_type": "code",
   "execution_count": 90,
   "metadata": {},
   "outputs": [
    {
     "name": "stdout",
     "output_type": "stream",
     "text": [
      "Wall time: 2h 4min 57s\n"
     ]
    }
   ],
   "source": [
    "%%time\n",
    "from sklearn.ensemble import GradientBoostingClassifier as GBDT\n",
    "from sklearn.externals import joblib\n",
    "\n",
    "gbdttrain_x = train_x\n",
    "gbdttrain_y=train_y\n",
    "gbdttest_x = test_x\n",
    "gbdttest_y = test_y\n",
    "\n",
    "gbr = GBDT(n_estimators = 3000,max_depth = 2,min_samples_split = 2,learning_rate = 0.1)\n",
    "gbr.fit(gbdttrain_x,gbdttrain_y)\n",
    "gbdtpre_y = gbr.predict(gbdttest_x)"
   ]
  },
  {
   "cell_type": "markdown",
   "metadata": {},
   "source": [
    "### Accuracy of Decision GBDT "
   ]
  },
  {
   "cell_type": "code",
   "execution_count": 91,
   "metadata": {},
   "outputs": [
    {
     "name": "stdout",
     "output_type": "stream",
     "text": [
      "The accuracy of MLP prediction is 81.06%\n"
     ]
    }
   ],
   "source": [
    "print(\"The accuracy of MLP prediction is\", \n",
    "      '{:.2%}'.format(accuracy_score(gbdttest_y,gbdtpre_y)))"
   ]
  },
  {
   "cell_type": "code",
   "execution_count": null,
   "metadata": {},
   "outputs": [],
   "source": []
  },
  {
   "cell_type": "markdown",
   "metadata": {},
   "source": [
    "### Confusion Matrix GBDT"
   ]
  },
  {
   "cell_type": "code",
   "execution_count": 92,
   "metadata": {},
   "outputs": [
    {
     "data": {
      "text/html": [
       "<div>\n",
       "<style scoped>\n",
       "    .dataframe tbody tr th:only-of-type {\n",
       "        vertical-align: middle;\n",
       "    }\n",
       "\n",
       "    .dataframe tbody tr th {\n",
       "        vertical-align: top;\n",
       "    }\n",
       "\n",
       "    .dataframe thead th {\n",
       "        text-align: right;\n",
       "    }\n",
       "</style>\n",
       "<table border=\"1\" class=\"dataframe\">\n",
       "  <thead>\n",
       "    <tr style=\"text-align: right;\">\n",
       "      <th>Predicted</th>\n",
       "      <th>0</th>\n",
       "      <th>1</th>\n",
       "      <th>All</th>\n",
       "    </tr>\n",
       "    <tr>\n",
       "      <th>Actual</th>\n",
       "      <th></th>\n",
       "      <th></th>\n",
       "      <th></th>\n",
       "    </tr>\n",
       "  </thead>\n",
       "  <tbody>\n",
       "    <tr>\n",
       "      <th>0</th>\n",
       "      <td>94773</td>\n",
       "      <td>1641</td>\n",
       "      <td>96414</td>\n",
       "    </tr>\n",
       "    <tr>\n",
       "      <th>1</th>\n",
       "      <td>21035</td>\n",
       "      <td>2305</td>\n",
       "      <td>23340</td>\n",
       "    </tr>\n",
       "    <tr>\n",
       "      <th>All</th>\n",
       "      <td>115808</td>\n",
       "      <td>3946</td>\n",
       "      <td>119754</td>\n",
       "    </tr>\n",
       "  </tbody>\n",
       "</table>\n",
       "</div>"
      ],
      "text/plain": [
       "Predicted       0     1     All\n",
       "Actual                         \n",
       "0           94773  1641   96414\n",
       "1           21035  2305   23340\n",
       "All        115808  3946  119754"
      ]
     },
     "execution_count": 92,
     "metadata": {},
     "output_type": "execute_result"
    }
   ],
   "source": [
    "#cm = confusion_matrix(test_y, pre_y)\n",
    "#cm\n",
    "pd.crosstab(index    = gbdttest_y, \n",
    "            columns  = gbdtpre_y, \n",
    "            rownames = ['Actual'], \n",
    "            colnames = ['Predicted'], \n",
    "            margins  = True)"
   ]
  },
  {
   "cell_type": "code",
   "execution_count": null,
   "metadata": {},
   "outputs": [],
   "source": []
  },
  {
   "cell_type": "code",
   "execution_count": null,
   "metadata": {},
   "outputs": [],
   "source": [
    "print(classification_report(gbdttest_y, gbdtpre_y))"
   ]
  },
  {
   "cell_type": "code",
   "execution_count": null,
   "metadata": {},
   "outputs": [],
   "source": [
    "print(\"The accuracy of MLP prediction is\", \n",
    "      '{:.2%}'.format(accuracy_score(gbdttest_y2,gbdtpre_y2)))"
   ]
  },
  {
   "cell_type": "markdown",
   "metadata": {},
   "source": [
    "### GBDT2"
   ]
  },
  {
   "cell_type": "code",
   "execution_count": 24,
   "metadata": {},
   "outputs": [
    {
     "name": "stdout",
     "output_type": "stream",
     "text": [
      "Wall time: 5h 17min 44s\n"
     ]
    }
   ],
   "source": [
    "%%time\n",
    "from sklearn.ensemble import GradientBoostingClassifier as GBDT\n",
    "from sklearn.externals import joblib\n",
    "\n",
    "gbdttrain_x2 = train_x\n",
    "gbdttrain_y2=train_y\n",
    "gbdttest_x2 = test_x\n",
    "gbdttest_y2 = test_y\n",
    "\n",
    "gbr2 = GBDT(n_estimators = 8000,max_depth = 2,min_samples_split = 2,learning_rate = 0.1)\n",
    "gbr2.fit(gbdttrain_x2,gbdttrain_y2)\n",
    "gbdtpre_y2 = gbr2.predict(gbdttest_x2)"
   ]
  },
  {
   "cell_type": "code",
   "execution_count": null,
   "metadata": {},
   "outputs": [],
   "source": []
  },
  {
   "cell_type": "code",
   "execution_count": 25,
   "metadata": {},
   "outputs": [
    {
     "name": "stdout",
     "output_type": "stream",
     "text": [
      "The accuracy of MLP prediction is 81.05%\n"
     ]
    }
   ],
   "source": [
    "print(\"The accuracy of MLP prediction is\", \n",
    "      '{:.2%}'.format(accuracy_score(gbdttest_y2,gbdtpre_y2)))"
   ]
  },
  {
   "cell_type": "code",
   "execution_count": 26,
   "metadata": {},
   "outputs": [
    {
     "data": {
      "text/html": [
       "<div>\n",
       "<style scoped>\n",
       "    .dataframe tbody tr th:only-of-type {\n",
       "        vertical-align: middle;\n",
       "    }\n",
       "\n",
       "    .dataframe tbody tr th {\n",
       "        vertical-align: top;\n",
       "    }\n",
       "\n",
       "    .dataframe thead th {\n",
       "        text-align: right;\n",
       "    }\n",
       "</style>\n",
       "<table border=\"1\" class=\"dataframe\">\n",
       "  <thead>\n",
       "    <tr style=\"text-align: right;\">\n",
       "      <th>Predicted</th>\n",
       "      <th>0</th>\n",
       "      <th>1</th>\n",
       "      <th>All</th>\n",
       "    </tr>\n",
       "    <tr>\n",
       "      <th>Actual</th>\n",
       "      <th></th>\n",
       "      <th></th>\n",
       "      <th></th>\n",
       "    </tr>\n",
       "  </thead>\n",
       "  <tbody>\n",
       "    <tr>\n",
       "      <th>0</th>\n",
       "      <td>94511</td>\n",
       "      <td>1903</td>\n",
       "      <td>96414</td>\n",
       "    </tr>\n",
       "    <tr>\n",
       "      <th>1</th>\n",
       "      <td>20790</td>\n",
       "      <td>2550</td>\n",
       "      <td>23340</td>\n",
       "    </tr>\n",
       "    <tr>\n",
       "      <th>All</th>\n",
       "      <td>115301</td>\n",
       "      <td>4453</td>\n",
       "      <td>119754</td>\n",
       "    </tr>\n",
       "  </tbody>\n",
       "</table>\n",
       "</div>"
      ],
      "text/plain": [
       "Predicted       0     1     All\n",
       "Actual                         \n",
       "0           94511  1903   96414\n",
       "1           20790  2550   23340\n",
       "All        115301  4453  119754"
      ]
     },
     "execution_count": 26,
     "metadata": {},
     "output_type": "execute_result"
    }
   ],
   "source": [
    "#cm = confusion_matrix(test_y, pre_y)\n",
    "#cm\n",
    "pd.crosstab(index    = gbdttest_y2, \n",
    "            columns  = gbdtpre_y2, \n",
    "            rownames = ['Actual'], \n",
    "            colnames = ['Predicted'], \n",
    "            margins  = True)"
   ]
  },
  {
   "cell_type": "markdown",
   "metadata": {},
   "source": [
    "### GBDT3"
   ]
  },
  {
   "cell_type": "code",
   "execution_count": 26,
   "metadata": {},
   "outputs": [
    {
     "name": "stdout",
     "output_type": "stream",
     "text": [
      "Wall time: 3h 24min 25s\n"
     ]
    }
   ],
   "source": [
    "%%time\n",
    "from sklearn.ensemble import GradientBoostingClassifier as GBDT\n",
    "from sklearn.externals import joblib\n",
    "\n",
    "gbdttrain_x3 = train_x\n",
    "gbdttrain_y3=train_y\n",
    "gbdttest_x3 = test_x\n",
    "gbdttest_y3 = test_y\n",
    "\n",
    "gbr3 = GBDT(n_estimators = 5000,max_depth = 2,min_samples_split = 2,learning_rate = 0.1)\n",
    "gbr3.fit(gbdttrain_x3,gbdttrain_y3)\n",
    "gbdtpre_y3 = gbr3.predict(gbdttest_x3)"
   ]
  },
  {
   "cell_type": "code",
   "execution_count": 27,
   "metadata": {},
   "outputs": [
    {
     "name": "stdout",
     "output_type": "stream",
     "text": [
      "The accuracy of MLP prediction is 81.06%\n"
     ]
    }
   ],
   "source": [
    "print(\"The accuracy of MLP prediction is\", \n",
    "      '{:.2%}'.format(accuracy_score(gbdttest_y3,gbdtpre_y3)))"
   ]
  },
  {
   "cell_type": "code",
   "execution_count": 28,
   "metadata": {},
   "outputs": [
    {
     "data": {
      "text/html": [
       "<div>\n",
       "<style scoped>\n",
       "    .dataframe tbody tr th:only-of-type {\n",
       "        vertical-align: middle;\n",
       "    }\n",
       "\n",
       "    .dataframe tbody tr th {\n",
       "        vertical-align: top;\n",
       "    }\n",
       "\n",
       "    .dataframe thead th {\n",
       "        text-align: right;\n",
       "    }\n",
       "</style>\n",
       "<table border=\"1\" class=\"dataframe\">\n",
       "  <thead>\n",
       "    <tr style=\"text-align: right;\">\n",
       "      <th>Predicted</th>\n",
       "      <th>0</th>\n",
       "      <th>1</th>\n",
       "      <th>All</th>\n",
       "    </tr>\n",
       "    <tr>\n",
       "      <th>Actual</th>\n",
       "      <th></th>\n",
       "      <th></th>\n",
       "      <th></th>\n",
       "    </tr>\n",
       "  </thead>\n",
       "  <tbody>\n",
       "    <tr>\n",
       "      <th>0</th>\n",
       "      <td>94649</td>\n",
       "      <td>1765</td>\n",
       "      <td>96414</td>\n",
       "    </tr>\n",
       "    <tr>\n",
       "      <th>1</th>\n",
       "      <td>20922</td>\n",
       "      <td>2418</td>\n",
       "      <td>23340</td>\n",
       "    </tr>\n",
       "    <tr>\n",
       "      <th>All</th>\n",
       "      <td>115571</td>\n",
       "      <td>4183</td>\n",
       "      <td>119754</td>\n",
       "    </tr>\n",
       "  </tbody>\n",
       "</table>\n",
       "</div>"
      ],
      "text/plain": [
       "Predicted       0     1     All\n",
       "Actual                         \n",
       "0           94649  1765   96414\n",
       "1           20922  2418   23340\n",
       "All        115571  4183  119754"
      ]
     },
     "execution_count": 28,
     "metadata": {},
     "output_type": "execute_result"
    }
   ],
   "source": [
    "#cm = confusion_matrix(test_y, pre_y)\n",
    "#cm\n",
    "pd.crosstab(index    = gbdttest_y3, \n",
    "            columns  = gbdtpre_y3, \n",
    "            rownames = ['Actual'], \n",
    "            colnames = ['Predicted'], \n",
    "            margins  = True)"
   ]
  },
  {
   "cell_type": "markdown",
   "metadata": {},
   "source": [
    "### GBDT4!!!!"
   ]
  },
  {
   "cell_type": "code",
   "execution_count": 56,
   "metadata": {},
   "outputs": [
    {
     "name": "stdout",
     "output_type": "stream",
     "text": [
      "Wall time: 1h 17min 45s\n"
     ]
    }
   ],
   "source": [
    "%%time\n",
    "from sklearn.ensemble import GradientBoostingClassifier as GBDT\n",
    "from sklearn.externals import joblib\n",
    "\n",
    "gbdttrain_x4 = train_x\n",
    "gbdttrain_y4=train_y\n",
    "gbdttest_x4 = test_x\n",
    "gbdttest_y4 = test_y\n",
    "\n",
    "gbr4 = GBDT(n_estimators = 2000,max_depth = 2,min_samples_split = 2,learning_rate = 0.1)\n",
    "gbr4.fit(gbdttrain_x4,gbdttrain_y4)\n",
    "gbdtpre_y4 = gbr4.predict(gbdttest_x4)"
   ]
  },
  {
   "cell_type": "code",
   "execution_count": 57,
   "metadata": {},
   "outputs": [
    {
     "name": "stdout",
     "output_type": "stream",
     "text": [
      "Precision 0.5879410215903107\n",
      "Recall 0.0956726649528706\n",
      "F1-score: 0.1645662908099344\n"
     ]
    }
   ],
   "source": [
    "## Precision,Recall,F1-score\n",
    "print('Precision',metrics.precision_score(gbdttest_y4, gbdtpre_y4))\n",
    "print('Recall',metrics.recall_score(gbdttest_y4, gbdtpre_y4))\n",
    "print('F1-score:',metrics.f1_score(gbdttest_y4, gbdtpre_y4))"
   ]
  },
  {
   "cell_type": "code",
   "execution_count": 58,
   "metadata": {},
   "outputs": [
    {
     "data": {
      "text/plain": [
       "[<matplotlib.lines.Line2D at 0x26026f2ecc8>]"
      ]
     },
     "execution_count": 58,
     "metadata": {},
     "output_type": "execute_result"
    },
    {
     "data": {
      "image/png": "[encoded data removed]",
      "text/plain": [
       "<Figure size 432x288 with 1 Axes>"
      ]
     },
     "metadata": {
      "needs_background": "light"
     },
     "output_type": "display_data"
    }
   ],
   "source": [
    "## P-R曲线\n",
    "precision, recall, thresholds = precision_recall_curve(gbdttest_y4, gbdtpre_y4)\n",
    "plt.plot(precision, recall)"
   ]
  },
  {
   "cell_type": "code",
   "execution_count": 59,
   "metadata": {},
   "outputs": [
    {
     "data": {
      "text/plain": [
       "Text(0.5, 0, 'FPR')"
      ]
     },
     "execution_count": 59,
     "metadata": {},
     "output_type": "execute_result"
    },
    {
     "data": {
      "image/png": "[encoded data removed]",
      "text/plain": [
       "<Figure size 432x288 with 1 Axes>"
      ]
     },
     "metadata": {
      "needs_background": "light"
     },
     "output_type": "display_data"
    }
   ],
   "source": [
    "## ROC曲线\n",
    "FPR,TPR,thresholds=roc_curve(gbdttest_y4, gbdtpre_y4)\n",
    "plt.title('ROC')\n",
    "plt.plot(FPR, TPR,'b')\n",
    "plt.plot([0,1],[0,1],'r--')\n",
    "plt.ylabel('TPR')\n",
    "plt.xlabel('FPR')"
   ]
  },
  {
   "cell_type": "code",
   "execution_count": 60,
   "metadata": {},
   "outputs": [
    {
     "name": "stdout",
     "output_type": "stream",
     "text": [
      "KS值： 0.07944058247522214\n"
     ]
    }
   ],
   "source": [
    "## KS值 在实际操作时往往使用ROC曲线配合求出KS值\n",
    "FPR,TPR,thresholds=roc_curve(gbdttest_y4, gbdtpre_y4)\n",
    "KS=abs(FPR-TPR).max()\n",
    "print('KS值：',KS)"
   ]
  },
  {
   "cell_type": "code",
   "execution_count": null,
   "metadata": {},
   "outputs": [],
   "source": []
  },
  {
   "cell_type": "code",
   "execution_count": 26,
   "metadata": {},
   "outputs": [
    {
     "name": "stdout",
     "output_type": "stream",
     "text": [
      "The accuracy of MLP prediction is 81.07%\n"
     ]
    }
   ],
   "source": [
    "print(\"The accuracy of MLP prediction is\", \n",
    "      '{:.2%}'.format(accuracy_score(gbdttest_y4,gbdtpre_y4)))"
   ]
  },
  {
   "cell_type": "code",
   "execution_count": 27,
   "metadata": {},
   "outputs": [
    {
     "data": {
      "text/html": [
       "<div>\n",
       "<style scoped>\n",
       "    .dataframe tbody tr th:only-of-type {\n",
       "        vertical-align: middle;\n",
       "    }\n",
       "\n",
       "    .dataframe tbody tr th {\n",
       "        vertical-align: top;\n",
       "    }\n",
       "\n",
       "    .dataframe thead th {\n",
       "        text-align: right;\n",
       "    }\n",
       "</style>\n",
       "<table border=\"1\" class=\"dataframe\">\n",
       "  <thead>\n",
       "    <tr style=\"text-align: right;\">\n",
       "      <th>Predicted</th>\n",
       "      <th>0</th>\n",
       "      <th>1</th>\n",
       "      <th>All</th>\n",
       "    </tr>\n",
       "    <tr>\n",
       "      <th>Actual</th>\n",
       "      <th></th>\n",
       "      <th></th>\n",
       "      <th></th>\n",
       "    </tr>\n",
       "  </thead>\n",
       "  <tbody>\n",
       "    <tr>\n",
       "      <th>0</th>\n",
       "      <td>94849</td>\n",
       "      <td>1565</td>\n",
       "      <td>96414</td>\n",
       "    </tr>\n",
       "    <tr>\n",
       "      <th>1</th>\n",
       "      <td>21107</td>\n",
       "      <td>2233</td>\n",
       "      <td>23340</td>\n",
       "    </tr>\n",
       "    <tr>\n",
       "      <th>All</th>\n",
       "      <td>115956</td>\n",
       "      <td>3798</td>\n",
       "      <td>119754</td>\n",
       "    </tr>\n",
       "  </tbody>\n",
       "</table>\n",
       "</div>"
      ],
      "text/plain": [
       "Predicted       0     1     All\n",
       "Actual                         \n",
       "0           94849  1565   96414\n",
       "1           21107  2233   23340\n",
       "All        115956  3798  119754"
      ]
     },
     "execution_count": 27,
     "metadata": {},
     "output_type": "execute_result"
    }
   ],
   "source": [
    "#cm = confusion_matrix(test_y, pre_y)\n",
    "#cm\n",
    "pd.crosstab(index    = gbdttest_y4, \n",
    "            columns  = gbdtpre_y4, \n",
    "            rownames = ['Actual'], \n",
    "            colnames = ['Predicted'], \n",
    "            margins  = True)"
   ]
  },
  {
   "cell_type": "code",
   "execution_count": null,
   "metadata": {},
   "outputs": [],
   "source": []
  },
  {
   "cell_type": "markdown",
   "metadata": {},
   "source": [
    "### GBDT4"
   ]
  },
  {
   "cell_type": "code",
   "execution_count": 24,
   "metadata": {},
   "outputs": [
    {
     "name": "stdout",
     "output_type": "stream",
     "text": [
      "Wall time: 41min 3s\n"
     ]
    }
   ],
   "source": [
    "%%time\n",
    "from sklearn.ensemble import GradientBoostingClassifier as GBDT\n",
    "from sklearn.externals import joblib\n",
    "\n",
    "gbdttrain_x5 = train_x\n",
    "gbdttrain_y5=train_y\n",
    "gbdttest_x5 = test_x\n",
    "gbdttest_y5 = test_y\n",
    "\n",
    "gbr5 = GBDT(n_estimators = 1000,max_depth = 2,min_samples_split = 2,learning_rate = 0.1)\n",
    "gbr5.fit(gbdttrain_x5,gbdttrain_y5)\n",
    "gbdtpre_y5 = gbr5.predict(gbdttest_x5)"
   ]
  },
  {
   "cell_type": "code",
   "execution_count": 25,
   "metadata": {},
   "outputs": [
    {
     "name": "stdout",
     "output_type": "stream",
     "text": [
      "The accuracy of MLP prediction is 81.04%\n"
     ]
    }
   ],
   "source": [
    "print(\"The accuracy of MLP prediction is\", \n",
    "      '{:.2%}'.format(accuracy_score(gbdttest_y5,gbdtpre_y5)))"
   ]
  },
  {
   "cell_type": "code",
   "execution_count": 26,
   "metadata": {},
   "outputs": [
    {
     "data": {
      "text/html": [
       "<div>\n",
       "<style scoped>\n",
       "    .dataframe tbody tr th:only-of-type {\n",
       "        vertical-align: middle;\n",
       "    }\n",
       "\n",
       "    .dataframe tbody tr th {\n",
       "        vertical-align: top;\n",
       "    }\n",
       "\n",
       "    .dataframe thead th {\n",
       "        text-align: right;\n",
       "    }\n",
       "</style>\n",
       "<table border=\"1\" class=\"dataframe\">\n",
       "  <thead>\n",
       "    <tr style=\"text-align: right;\">\n",
       "      <th>Predicted</th>\n",
       "      <th>0</th>\n",
       "      <th>1</th>\n",
       "      <th>All</th>\n",
       "    </tr>\n",
       "    <tr>\n",
       "      <th>Actual</th>\n",
       "      <th></th>\n",
       "      <th></th>\n",
       "      <th></th>\n",
       "    </tr>\n",
       "  </thead>\n",
       "  <tbody>\n",
       "    <tr>\n",
       "      <th>0</th>\n",
       "      <td>94980</td>\n",
       "      <td>1434</td>\n",
       "      <td>96414</td>\n",
       "    </tr>\n",
       "    <tr>\n",
       "      <th>1</th>\n",
       "      <td>21267</td>\n",
       "      <td>2073</td>\n",
       "      <td>23340</td>\n",
       "    </tr>\n",
       "    <tr>\n",
       "      <th>All</th>\n",
       "      <td>116247</td>\n",
       "      <td>3507</td>\n",
       "      <td>119754</td>\n",
       "    </tr>\n",
       "  </tbody>\n",
       "</table>\n",
       "</div>"
      ],
      "text/plain": [
       "Predicted       0     1     All\n",
       "Actual                         \n",
       "0           94980  1434   96414\n",
       "1           21267  2073   23340\n",
       "All        116247  3507  119754"
      ]
     },
     "execution_count": 26,
     "metadata": {},
     "output_type": "execute_result"
    }
   ],
   "source": [
    "#cm = confusion_matrix(test_y, pre_y)\n",
    "#cm\n",
    "pd.crosstab(index    = gbdttest_y5, \n",
    "            columns  = gbdtpre_y5, \n",
    "            rownames = ['Actual'], \n",
    "            colnames = ['Predicted'], \n",
    "            margins  = True)"
   ]
  },
  {
   "cell_type": "code",
   "execution_count": 27,
   "metadata": {},
   "outputs": [
    {
     "name": "stdout",
     "output_type": "stream",
     "text": [
      "Wall time: 1h 40min 3s\n"
     ]
    }
   ],
   "source": [
    "%%time\n",
    "from sklearn.ensemble import GradientBoostingClassifier as GBDT\n",
    "from sklearn.externals import joblib\n",
    "\n",
    "gbdttrain_x6 = train_x\n",
    "gbdttrain_y6=train_y\n",
    "gbdttest_x6 = test_x\n",
    "gbdttest_y6 = test_y\n",
    "\n",
    "gbr6 = GBDT(n_estimators = 2500,max_depth = 2,min_samples_split = 2,learning_rate = 0.1)\n",
    "gbr6.fit(gbdttrain_x6,gbdttrain_y6)\n",
    "gbdtpre_y6 = gbr6.predict(gbdttest_x6)"
   ]
  },
  {
   "cell_type": "code",
   "execution_count": 28,
   "metadata": {},
   "outputs": [
    {
     "name": "stdout",
     "output_type": "stream",
     "text": [
      "The accuracy of MLP prediction is 81.06%\n"
     ]
    }
   ],
   "source": [
    "print(\"The accuracy of MLP prediction is\", \n",
    "      '{:.2%}'.format(accuracy_score(gbdttest_y6,gbdtpre_y6)))"
   ]
  },
  {
   "cell_type": "code",
   "execution_count": 29,
   "metadata": {},
   "outputs": [
    {
     "data": {
      "text/html": [
       "<div>\n",
       "<style scoped>\n",
       "    .dataframe tbody tr th:only-of-type {\n",
       "        vertical-align: middle;\n",
       "    }\n",
       "\n",
       "    .dataframe tbody tr th {\n",
       "        vertical-align: top;\n",
       "    }\n",
       "\n",
       "    .dataframe thead th {\n",
       "        text-align: right;\n",
       "    }\n",
       "</style>\n",
       "<table border=\"1\" class=\"dataframe\">\n",
       "  <thead>\n",
       "    <tr style=\"text-align: right;\">\n",
       "      <th>Predicted</th>\n",
       "      <th>0</th>\n",
       "      <th>1</th>\n",
       "      <th>All</th>\n",
       "    </tr>\n",
       "    <tr>\n",
       "      <th>Actual</th>\n",
       "      <th></th>\n",
       "      <th></th>\n",
       "      <th></th>\n",
       "    </tr>\n",
       "  </thead>\n",
       "  <tbody>\n",
       "    <tr>\n",
       "      <th>0</th>\n",
       "      <td>94793</td>\n",
       "      <td>1621</td>\n",
       "      <td>96414</td>\n",
       "    </tr>\n",
       "    <tr>\n",
       "      <th>1</th>\n",
       "      <td>21063</td>\n",
       "      <td>2277</td>\n",
       "      <td>23340</td>\n",
       "    </tr>\n",
       "    <tr>\n",
       "      <th>All</th>\n",
       "      <td>115856</td>\n",
       "      <td>3898</td>\n",
       "      <td>119754</td>\n",
       "    </tr>\n",
       "  </tbody>\n",
       "</table>\n",
       "</div>"
      ],
      "text/plain": [
       "Predicted       0     1     All\n",
       "Actual                         \n",
       "0           94793  1621   96414\n",
       "1           21063  2277   23340\n",
       "All        115856  3898  119754"
      ]
     },
     "execution_count": 29,
     "metadata": {},
     "output_type": "execute_result"
    }
   ],
   "source": [
    "#cm = confusion_matrix(test_y, pre_y)\n",
    "#cm\n",
    "pd.crosstab(index    = gbdttest_y6, \n",
    "            columns  = gbdtpre_y6, \n",
    "            rownames = ['Actual'], \n",
    "            colnames = ['Predicted'], \n",
    "            margins  = True)"
   ]
  },
  {
   "cell_type": "code",
   "execution_count": 30,
   "metadata": {},
   "outputs": [
    {
     "name": "stdout",
     "output_type": "stream",
     "text": [
      "              precision    recall  f1-score   support\n",
      "\n",
      "           0       0.82      0.98      0.89     96414\n",
      "           1       0.58      0.10      0.17     23340\n",
      "\n",
      "    accuracy                           0.81    119754\n",
      "   macro avg       0.70      0.54      0.53    119754\n",
      "weighted avg       0.77      0.81      0.75    119754\n",
      "\n"
     ]
    }
   ],
   "source": [
    "print(classification_report(gbdttest_y6, gbdtpre_y6))"
   ]
  },
  {
   "cell_type": "markdown",
   "metadata": {},
   "source": [
    "# SVM"
   ]
  },
  {
   "cell_type": "code",
   "execution_count": null,
   "metadata": {},
   "outputs": [],
   "source": []
  },
  {
   "cell_type": "code",
   "execution_count": null,
   "metadata": {},
   "outputs": [],
   "source": []
  },
  {
   "cell_type": "code",
   "execution_count": null,
   "metadata": {},
   "outputs": [],
   "source": []
  },
  {
   "cell_type": "code",
   "execution_count": 30,
   "metadata": {},
   "outputs": [
    {
     "name": "stdout",
     "output_type": "stream",
     "text": [
      "Wall time: 2h 52min 24s\n"
     ]
    }
   ],
   "source": [
    "%%time\n",
    "from sklearn.svm import SVC as SVM\n",
    "svmtrain_x = train_x\n",
    "svmtrain_y=train_y\n",
    "svmtest_x = test_x\n",
    "svmtest_y = test_y\n",
    "clf = SVM( coef0=0.2, degree=3, gamma='auto', kernel='poly')\n",
    "clf.fit(svmtrain_x, svmtrain_y) \n",
    "svmpre_y = clf.predict(svmtest_x)\n"
   ]
  },
  {
   "cell_type": "code",
   "execution_count": null,
   "metadata": {},
   "outputs": [],
   "source": []
  },
  {
   "cell_type": "code",
   "execution_count": null,
   "metadata": {},
   "outputs": [],
   "source": []
  },
  {
   "cell_type": "code",
   "execution_count": 24,
   "metadata": {},
   "outputs": [],
   "source": [
    "from sklearn.preprocessing import OneHotEncoder\n",
    "from sklearn.ensemble import GradientBoostingClassifier"
   ]
  },
  {
   "cell_type": "code",
   "execution_count": 25,
   "metadata": {},
   "outputs": [
    {
     "name": "stdout",
     "output_type": "stream",
     "text": [
      "Start training...\n",
      "[LightGBM] [Warning] Auto-choosing col-wise multi-threading, the overhead of testing was 0.102937 seconds.\n",
      "You can set `force_col_wise=true` to remove the overhead.\n",
      "[1]\ttraining's binary_logloss: 0.492015\n",
      "[2]\ttraining's binary_logloss: 0.491169\n",
      "[3]\ttraining's binary_logloss: 0.49037\n",
      "[4]\ttraining's binary_logloss: 0.48957\n",
      "[5]\ttraining's binary_logloss: 0.488794\n",
      "[6]\ttraining's binary_logloss: 0.48805\n",
      "[7]\ttraining's binary_logloss: 0.487293\n",
      "[8]\ttraining's binary_logloss: 0.486552\n",
      "[9]\ttraining's binary_logloss: 0.485828\n",
      "[10]\ttraining's binary_logloss: 0.48512\n",
      "[11]\ttraining's binary_logloss: 0.484431\n",
      "[12]\ttraining's binary_logloss: 0.483744\n",
      "[13]\ttraining's binary_logloss: 0.483073\n",
      "[14]\ttraining's binary_logloss: 0.482417\n",
      "[15]\ttraining's binary_logloss: 0.481773\n",
      "[16]\ttraining's binary_logloss: 0.481155\n",
      "[17]\ttraining's binary_logloss: 0.480531\n",
      "[18]\ttraining's binary_logloss: 0.479919\n",
      "[19]\ttraining's binary_logloss: 0.479339\n",
      "[20]\ttraining's binary_logloss: 0.478751\n",
      "[21]\ttraining's binary_logloss: 0.478179\n",
      "[22]\ttraining's binary_logloss: 0.477613\n",
      "[23]\ttraining's binary_logloss: 0.477052\n",
      "[24]\ttraining's binary_logloss: 0.476523\n",
      "[25]\ttraining's binary_logloss: 0.475987\n",
      "[26]\ttraining's binary_logloss: 0.475481\n",
      "[27]\ttraining's binary_logloss: 0.474962\n",
      "[28]\ttraining's binary_logloss: 0.47448\n",
      "[29]\ttraining's binary_logloss: 0.473985\n",
      "[30]\ttraining's binary_logloss: 0.473499\n",
      "[31]\ttraining's binary_logloss: 0.473035\n",
      "[32]\ttraining's binary_logloss: 0.472565\n",
      "[33]\ttraining's binary_logloss: 0.472106\n",
      "[34]\ttraining's binary_logloss: 0.471651\n",
      "[35]\ttraining's binary_logloss: 0.471206\n",
      "[36]\ttraining's binary_logloss: 0.470768\n",
      "[37]\ttraining's binary_logloss: 0.47034\n",
      "[38]\ttraining's binary_logloss: 0.469915\n",
      "[39]\ttraining's binary_logloss: 0.469512\n",
      "[40]\ttraining's binary_logloss: 0.469102\n",
      "[41]\ttraining's binary_logloss: 0.468709\n",
      "[42]\ttraining's binary_logloss: 0.468315\n",
      "[43]\ttraining's binary_logloss: 0.467929\n",
      "[44]\ttraining's binary_logloss: 0.467549\n",
      "[45]\ttraining's binary_logloss: 0.467176\n",
      "[46]\ttraining's binary_logloss: 0.466811\n",
      "[47]\ttraining's binary_logloss: 0.46646\n",
      "[48]\ttraining's binary_logloss: 0.466116\n",
      "[49]\ttraining's binary_logloss: 0.46577\n",
      "[50]\ttraining's binary_logloss: 0.465429\n",
      "[51]\ttraining's binary_logloss: 0.46509\n",
      "[52]\ttraining's binary_logloss: 0.464764\n",
      "[53]\ttraining's binary_logloss: 0.464435\n",
      "[54]\ttraining's binary_logloss: 0.464114\n",
      "[55]\ttraining's binary_logloss: 0.463798\n",
      "[56]\ttraining's binary_logloss: 0.463497\n",
      "[57]\ttraining's binary_logloss: 0.463193\n",
      "[58]\ttraining's binary_logloss: 0.462898\n",
      "[59]\ttraining's binary_logloss: 0.462601\n",
      "[60]\ttraining's binary_logloss: 0.462313\n",
      "[61]\ttraining's binary_logloss: 0.462024\n",
      "[62]\ttraining's binary_logloss: 0.461739\n",
      "[63]\ttraining's binary_logloss: 0.461471\n",
      "[64]\ttraining's binary_logloss: 0.461199\n",
      "[65]\ttraining's binary_logloss: 0.460927\n",
      "[66]\ttraining's binary_logloss: 0.460662\n",
      "[67]\ttraining's binary_logloss: 0.4604\n",
      "[68]\ttraining's binary_logloss: 0.460141\n",
      "[69]\ttraining's binary_logloss: 0.459893\n",
      "[70]\ttraining's binary_logloss: 0.45964\n",
      "[71]\ttraining's binary_logloss: 0.459399\n",
      "[72]\ttraining's binary_logloss: 0.459162\n",
      "[73]\ttraining's binary_logloss: 0.458925\n",
      "[74]\ttraining's binary_logloss: 0.458697\n",
      "[75]\ttraining's binary_logloss: 0.458466\n",
      "[76]\ttraining's binary_logloss: 0.458233\n",
      "[77]\ttraining's binary_logloss: 0.458002\n",
      "[78]\ttraining's binary_logloss: 0.457775\n",
      "[79]\ttraining's binary_logloss: 0.457554\n",
      "[80]\ttraining's binary_logloss: 0.457336\n",
      "[81]\ttraining's binary_logloss: 0.457125\n",
      "[82]\ttraining's binary_logloss: 0.456919\n",
      "[83]\ttraining's binary_logloss: 0.45671\n",
      "[84]\ttraining's binary_logloss: 0.456508\n",
      "[85]\ttraining's binary_logloss: 0.456305\n",
      "[86]\ttraining's binary_logloss: 0.456118\n",
      "[87]\ttraining's binary_logloss: 0.455919\n",
      "[88]\ttraining's binary_logloss: 0.45572\n",
      "[89]\ttraining's binary_logloss: 0.455526\n",
      "[90]\ttraining's binary_logloss: 0.455334\n",
      "[91]\ttraining's binary_logloss: 0.45515\n",
      "[92]\ttraining's binary_logloss: 0.454968\n",
      "[93]\ttraining's binary_logloss: 0.454794\n",
      "[94]\ttraining's binary_logloss: 0.454613\n",
      "[95]\ttraining's binary_logloss: 0.454437\n",
      "[96]\ttraining's binary_logloss: 0.454262\n",
      "[97]\ttraining's binary_logloss: 0.454089\n",
      "[98]\ttraining's binary_logloss: 0.453922\n",
      "[99]\ttraining's binary_logloss: 0.453759\n",
      "[100]\ttraining's binary_logloss: 0.453595\n",
      "Save model...\n",
      "Wall time: 9.98 s\n"
     ]
    },
    {
     "data": {
      "text/plain": [
       "<lightgbm.basic.Booster at 0x2606c0f1748>"
      ]
     },
     "execution_count": 25,
     "metadata": {},
     "output_type": "execute_result"
    }
   ],
   "source": [
    "%%time\n",
    "from sklearn.ensemble import GradientBoostingClassifier as GBDT\n",
    "from sklearn.externals import joblib\n",
    "\n",
    "\n",
    "\n",
    "y_train = train_y # training label\n",
    "y_test = test_y # testing label\n",
    "X_train = train_x  # training dataset\n",
    "X_test = test_x  # testing dataset\n",
    "\n",
    "# create dataset for lightgbm\n",
    "lgb_train = lgb.Dataset(X_train, y_train)\n",
    "lgb_eval = lgb.Dataset(X_test, y_test, reference=lgb_train)\n",
    "\n",
    "params = {\n",
    "    'task': 'train',\n",
    "    'boosting_type': 'gbdt',\n",
    "    'objective': 'binary',\n",
    "    'metric': {'binary_logloss'},\n",
    "    'num_leaves': 64,\n",
    "    'num_trees': 100,\n",
    "    'learning_rate': 0.01,\n",
    "    'feature_fraction': 0.9,\n",
    "    'bagging_fraction': 0.8,\n",
    "    'bagging_freq': 5,\n",
    "    'verbose': 0\n",
    "}\n",
    "\n",
    "# number of leaves,will be used in feature transformation\n",
    "num_leaf = 64\n",
    "\n",
    "print('Start training...')\n",
    "# train\n",
    "gbm = lgb.train(params,\n",
    "                lgb_train,\n",
    "                num_boost_round=100,\n",
    "                valid_sets=lgb_train)\n",
    "\n",
    "print('Save model...')\n",
    "# save model to file\n",
    "gbm.save_model('model.txt')\n"
   ]
  },
  {
   "cell_type": "code",
   "execution_count": 26,
   "metadata": {},
   "outputs": [
    {
     "name": "stdout",
     "output_type": "stream",
     "text": [
      "Start predicting...\n",
      "(479016, 100)\n",
      "[14 56 43 14 54 31 35 33 32 34  9 16 16 16 16 55 34 46 30 48 16 26 11 18\n",
      " 18 53 43 55 62 37 13 16 18 18 18 15 15 16 38 17 42 47 45 51 54 23 48 48\n",
      " 20 18 50 18 53 52 40 63 22 43 29 22 54 38 46 14 27 14 16 52  7 39 28 28\n",
      " 32 28 12  7 42  7  7 31 16 33 26 60 58 39 43 25 54 25 11 11 26 40 13 32\n",
      " 18 28 29 15]\n"
     ]
    }
   ],
   "source": [
    "# predict and get data on leaves, training data\n",
    "print('Start predicting...')\n",
    "y_pred = gbm.predict(X_train, pred_leaf=True)\n",
    "print(np.array(y_pred).shape)\n",
    "print(y_pred[0])"
   ]
  },
  {
   "cell_type": "code",
   "execution_count": 27,
   "metadata": {},
   "outputs": [],
   "source": [
    "array_ = np.zeros((10000,10000),dtype='float32') # 默认float64"
   ]
  },
  {
   "cell_type": "code",
   "execution_count": 28,
   "metadata": {},
   "outputs": [
    {
     "name": "stdout",
     "output_type": "stream",
     "text": [
      "Writing transformed training data\n"
     ]
    }
   ],
   "source": [
    "print('Writing transformed training data')\n",
    "transformed_training_matrix = np.zeros([len(y_pred), len(y_pred[0]) * num_leaf],\n",
    "                                       dtype=np.int64)  # N * num_tress * num_leafs\n",
    "for i in range(0, len(y_pred)):\n",
    "    temp = np.arange(len(y_pred[0])) * num_leaf + np.array(y_pred[i])\n",
    "    transformed_training_matrix[i][temp] += 1"
   ]
  },
  {
   "cell_type": "code",
   "execution_count": 30,
   "metadata": {},
   "outputs": [
    {
     "name": "stdout",
     "output_type": "stream",
     "text": [
      "Writing transformed testing data\n"
     ]
    }
   ],
   "source": [
    "y_pred = gbm.predict(X_test, pred_leaf=True)\n",
    "print('Writing transformed testing data')\n",
    "transformed_testing_matrix = np.zeros([len(y_pred), len(y_pred[0]) * num_leaf], dtype=np.int64)\n",
    "for i in range(0, len(y_pred)):\n",
    "    temp = np.arange(len(y_pred[0])) * num_leaf + np.array(y_pred[i])\n",
    "    transformed_testing_matrix[i][temp] += 1"
   ]
  },
  {
   "cell_type": "code",
   "execution_count": 34,
   "metadata": {},
   "outputs": [
    {
     "ename": "MemoryError",
     "evalue": "Unable to allocate 22.8 GiB for an array with shape (479016, 6400) and data type float64",
     "output_type": "error",
     "traceback": [
      "\u001b[1;31m---------------------------------------------------------------------------\u001b[0m",
      "\u001b[1;31mMemoryError\u001b[0m                               Traceback (most recent call last)",
      "\u001b[1;32m<ipython-input-34-f367a643f62e>\u001b[0m in \u001b[0;36m<module>\u001b[1;34m\u001b[0m\n\u001b[0;32m      1\u001b[0m \u001b[0mlm\u001b[0m \u001b[1;33m=\u001b[0m \u001b[0mLR\u001b[0m\u001b[1;33m(\u001b[0m\u001b[0mpenalty\u001b[0m\u001b[1;33m=\u001b[0m\u001b[1;34m'l2'\u001b[0m\u001b[1;33m,\u001b[0m\u001b[0mC\u001b[0m\u001b[1;33m=\u001b[0m\u001b[1;36m0.05\u001b[0m\u001b[1;33m)\u001b[0m \u001b[1;31m# logestic model construction\u001b[0m\u001b[1;33m\u001b[0m\u001b[1;33m\u001b[0m\u001b[0m\n\u001b[1;32m----> 2\u001b[1;33m \u001b[0mlm\u001b[0m\u001b[1;33m.\u001b[0m\u001b[0mfit\u001b[0m\u001b[1;33m(\u001b[0m\u001b[0mtransformed_training_matrix\u001b[0m\u001b[1;33m,\u001b[0m\u001b[0my_train\u001b[0m\u001b[1;33m)\u001b[0m  \u001b[1;31m# fitting the data\u001b[0m\u001b[1;33m\u001b[0m\u001b[1;33m\u001b[0m\u001b[0m\n\u001b[0m\u001b[0;32m      3\u001b[0m \u001b[0my_pred_test\u001b[0m \u001b[1;33m=\u001b[0m \u001b[0mlm\u001b[0m\u001b[1;33m.\u001b[0m\u001b[0mpredict_proba\u001b[0m\u001b[1;33m(\u001b[0m\u001b[0mtransformed_testing_matrix\u001b[0m\u001b[1;33m)\u001b[0m   \u001b[1;31m# Give the probabilty on each label\u001b[0m\u001b[1;33m\u001b[0m\u001b[1;33m\u001b[0m\u001b[0m\n",
      "\u001b[1;32mD:\\anaconda\\anaconda3\\lib\\site-packages\\sklearn\\linear_model\\_logistic.py\u001b[0m in \u001b[0;36mfit\u001b[1;34m(self, X, y, sample_weight)\u001b[0m\n\u001b[0;32m   1525\u001b[0m \u001b[1;33m\u001b[0m\u001b[0m\n\u001b[0;32m   1526\u001b[0m         X, y = check_X_y(X, y, accept_sparse='csr', dtype=_dtype, order=\"C\",\n\u001b[1;32m-> 1527\u001b[1;33m                          accept_large_sparse=solver != 'liblinear')\n\u001b[0m\u001b[0;32m   1528\u001b[0m         \u001b[0mcheck_classification_targets\u001b[0m\u001b[1;33m(\u001b[0m\u001b[0my\u001b[0m\u001b[1;33m)\u001b[0m\u001b[1;33m\u001b[0m\u001b[1;33m\u001b[0m\u001b[0m\n\u001b[0;32m   1529\u001b[0m         \u001b[0mself\u001b[0m\u001b[1;33m.\u001b[0m\u001b[0mclasses_\u001b[0m \u001b[1;33m=\u001b[0m \u001b[0mnp\u001b[0m\u001b[1;33m.\u001b[0m\u001b[0munique\u001b[0m\u001b[1;33m(\u001b[0m\u001b[0my\u001b[0m\u001b[1;33m)\u001b[0m\u001b[1;33m\u001b[0m\u001b[1;33m\u001b[0m\u001b[0m\n",
      "\u001b[1;32mD:\\anaconda\\anaconda3\\lib\\site-packages\\sklearn\\utils\\validation.py\u001b[0m in \u001b[0;36mcheck_X_y\u001b[1;34m(X, y, accept_sparse, accept_large_sparse, dtype, order, copy, force_all_finite, ensure_2d, allow_nd, multi_output, ensure_min_samples, ensure_min_features, y_numeric, warn_on_dtype, estimator)\u001b[0m\n\u001b[0;32m    753\u001b[0m                     \u001b[0mensure_min_features\u001b[0m\u001b[1;33m=\u001b[0m\u001b[0mensure_min_features\u001b[0m\u001b[1;33m,\u001b[0m\u001b[1;33m\u001b[0m\u001b[1;33m\u001b[0m\u001b[0m\n\u001b[0;32m    754\u001b[0m                     \u001b[0mwarn_on_dtype\u001b[0m\u001b[1;33m=\u001b[0m\u001b[0mwarn_on_dtype\u001b[0m\u001b[1;33m,\u001b[0m\u001b[1;33m\u001b[0m\u001b[1;33m\u001b[0m\u001b[0m\n\u001b[1;32m--> 755\u001b[1;33m                     estimator=estimator)\n\u001b[0m\u001b[0;32m    756\u001b[0m     \u001b[1;32mif\u001b[0m \u001b[0mmulti_output\u001b[0m\u001b[1;33m:\u001b[0m\u001b[1;33m\u001b[0m\u001b[1;33m\u001b[0m\u001b[0m\n\u001b[0;32m    757\u001b[0m         y = check_array(y, 'csr', force_all_finite=True, ensure_2d=False,\n",
      "\u001b[1;32mD:\\anaconda\\anaconda3\\lib\\site-packages\\sklearn\\utils\\validation.py\u001b[0m in \u001b[0;36mcheck_array\u001b[1;34m(array, accept_sparse, accept_large_sparse, dtype, order, copy, force_all_finite, ensure_2d, allow_nd, ensure_min_samples, ensure_min_features, warn_on_dtype, estimator)\u001b[0m\n\u001b[0;32m    529\u001b[0m                     \u001b[0marray\u001b[0m \u001b[1;33m=\u001b[0m \u001b[0marray\u001b[0m\u001b[1;33m.\u001b[0m\u001b[0mastype\u001b[0m\u001b[1;33m(\u001b[0m\u001b[0mdtype\u001b[0m\u001b[1;33m,\u001b[0m \u001b[0mcasting\u001b[0m\u001b[1;33m=\u001b[0m\u001b[1;34m\"unsafe\"\u001b[0m\u001b[1;33m,\u001b[0m \u001b[0mcopy\u001b[0m\u001b[1;33m=\u001b[0m\u001b[1;32mFalse\u001b[0m\u001b[1;33m)\u001b[0m\u001b[1;33m\u001b[0m\u001b[1;33m\u001b[0m\u001b[0m\n\u001b[0;32m    530\u001b[0m                 \u001b[1;32melse\u001b[0m\u001b[1;33m:\u001b[0m\u001b[1;33m\u001b[0m\u001b[1;33m\u001b[0m\u001b[0m\n\u001b[1;32m--> 531\u001b[1;33m                     \u001b[0marray\u001b[0m \u001b[1;33m=\u001b[0m \u001b[0mnp\u001b[0m\u001b[1;33m.\u001b[0m\u001b[0masarray\u001b[0m\u001b[1;33m(\u001b[0m\u001b[0marray\u001b[0m\u001b[1;33m,\u001b[0m \u001b[0morder\u001b[0m\u001b[1;33m=\u001b[0m\u001b[0morder\u001b[0m\u001b[1;33m,\u001b[0m \u001b[0mdtype\u001b[0m\u001b[1;33m=\u001b[0m\u001b[0mdtype\u001b[0m\u001b[1;33m)\u001b[0m\u001b[1;33m\u001b[0m\u001b[1;33m\u001b[0m\u001b[0m\n\u001b[0m\u001b[0;32m    532\u001b[0m             \u001b[1;32mexcept\u001b[0m \u001b[0mComplexWarning\u001b[0m\u001b[1;33m:\u001b[0m\u001b[1;33m\u001b[0m\u001b[1;33m\u001b[0m\u001b[0m\n\u001b[0;32m    533\u001b[0m                 raise ValueError(\"Complex data not supported\\n\"\n",
      "\u001b[1;31mMemoryError\u001b[0m: Unable to allocate 22.8 GiB for an array with shape (479016, 6400) and data type float64"
     ]
    }
   ],
   "source": [
    "lm = LR(penalty='l2',C=0.05) # logestic model construction\n",
    "lm.fit(transformed_training_matrix,y_train)  # fitting the data\n",
    "y_pred_test = lm.predict_proba(transformed_testing_matrix)   # Give the probabilty on each label"
   ]
  },
  {
   "cell_type": "code",
   "execution_count": null,
   "metadata": {},
   "outputs": [],
   "source": []
  }
 ],
 "metadata": {
  "kernelspec": {
   "display_name": "Python 3",
   "language": "python",
   "name": "python3"
  },
  "language_info": {
   "codemirror_mode": {
    "name": "ipython",
    "version": 3
   },
   "file_extension": ".py",
   "mimetype": "text/x-python",
   "name": "python",
   "nbconvert_exporter": "python",
   "pygments_lexer": "ipython3",
   "version": "3.7.6"
  }
 },
 "nbformat": 4,
 "nbformat_minor": 4
}
